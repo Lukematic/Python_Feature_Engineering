{
 "cells": [
  {
   "cell_type": "markdown",
   "metadata": {},
   "source": [
    "## CHAPTER 10\n",
    "---\n",
    "# CREATING FEATURES WITH TRANSACTIONAL AND TIME SERIES DATA"
   ]
  },
  {
   "cell_type": "markdown",
   "metadata": {},
   "source": [
    "---\n",
    "- Time series and transactional data contain time-stamped observations, which means they share a *time dimension*.\n",
    "- We often create features that aggregate or summarize the information from the historical data points of time series or transactions. For example, \n",
    "    - we can create features that capture the maximum amount that was spent by the customer in the last week, \n",
    "    - the number of transactions they made, or \n",
    "    - the time between transactions. \n",
    "- The number of features we can create and the ways in which we can aggregate this information is enormous. \n",
    "- In this chapter, we will discuss the most common ways of creating aggregated views of historical data by using pandas. \n",
    "- Then, we will make a shallow dive into Featuretools, a library designed to automate feature creation from transactional data. \n",
    "- Finally, we will point you to other Python libraries that have been devised specifically for analyzing signal complexity."
   ]
  },
  {
   "cell_type": "markdown",
   "metadata": {},
   "source": [
    "## 10.1 Aggregating transactions with mathematical operations"
   ]
  },
  {
   "cell_type": "markdown",
   "metadata": {},
   "source": [
    "- Previously, we mentioned that we can aggregate information from historical data points into single observations like the maximum amount spent on a transaction, the total number of transactions, or the mean value of all transactions, to name a few examples. \n",
    "- These aggregations are made with basic mathematical operations, such as the maximum, mean, and count. \n",
    "- As you can see, mathematical operations are a simple yet powerful way to obtain a summarized view of historical data.\n",
    "- In this recipe, we will create a flattened dataset by aggregating multiple transactions using common mathematical operations. \n",
    "- We will use pandas to do this.\n",
    "- In a flattened dataset, we remove the time-dimension from the transaction data or time series to obtain a single observation per entity."
   ]
  },
  {
   "cell_type": "code",
   "execution_count": 1,
   "metadata": {},
   "outputs": [],
   "source": [
    "import pandas as pd\n",
    "import featuretools as ft"
   ]
  },
  {
   "cell_type": "code",
   "execution_count": 2,
   "metadata": {},
   "outputs": [
    {
     "data": {
      "text/plain": [
       "pandas.core.frame.DataFrame"
      ]
     },
     "execution_count": 2,
     "metadata": {},
     "output_type": "execute_result"
    }
   ],
   "source": [
    "# load data from feature tools\n",
    "data_dict = ft.demo.load_mock_customer()\n",
    "\n",
    "# each table in the dictionary is a pandas dataframe\n",
    "type(data_dict[\"transactions\"])"
   ]
  },
  {
   "cell_type": "code",
   "execution_count": 3,
   "metadata": {},
   "outputs": [
    {
     "data": {
      "text/plain": [
       "(500, 11)"
      ]
     },
     "execution_count": 3,
     "metadata": {},
     "output_type": "execute_result"
    }
   ],
   "source": [
    "# capture all 3 data tables into a pandas dataframe\n",
    "data = data_dict[\"transactions\"].merge(\n",
    "    data_dict[\"sessions\"]).merge(data_dict[\"customers\"])\n",
    "\n",
    "data.shape"
   ]
  },
  {
   "cell_type": "code",
   "execution_count": 4,
   "metadata": {},
   "outputs": [
    {
     "data": {
      "text/html": [
       "<div>\n",
       "<style scoped>\n",
       "    .dataframe tbody tr th:only-of-type {\n",
       "        vertical-align: middle;\n",
       "    }\n",
       "\n",
       "    .dataframe tbody tr th {\n",
       "        vertical-align: top;\n",
       "    }\n",
       "\n",
       "    .dataframe thead th {\n",
       "        text-align: right;\n",
       "    }\n",
       "</style>\n",
       "<table border=\"1\" class=\"dataframe\">\n",
       "  <thead>\n",
       "    <tr style=\"text-align: right;\">\n",
       "      <th></th>\n",
       "      <th>customer_id</th>\n",
       "      <th>transaction_id</th>\n",
       "      <th>transaction_time</th>\n",
       "      <th>amount</th>\n",
       "    </tr>\n",
       "  </thead>\n",
       "  <tbody>\n",
       "    <tr>\n",
       "      <th>0</th>\n",
       "      <td>2</td>\n",
       "      <td>298</td>\n",
       "      <td>2014-01-01 00:00:00</td>\n",
       "      <td>127.64</td>\n",
       "    </tr>\n",
       "    <tr>\n",
       "      <th>1</th>\n",
       "      <td>2</td>\n",
       "      <td>2</td>\n",
       "      <td>2014-01-01 00:01:05</td>\n",
       "      <td>109.48</td>\n",
       "    </tr>\n",
       "    <tr>\n",
       "      <th>2</th>\n",
       "      <td>2</td>\n",
       "      <td>308</td>\n",
       "      <td>2014-01-01 00:02:10</td>\n",
       "      <td>95.06</td>\n",
       "    </tr>\n",
       "    <tr>\n",
       "      <th>3</th>\n",
       "      <td>2</td>\n",
       "      <td>116</td>\n",
       "      <td>2014-01-01 00:03:15</td>\n",
       "      <td>78.92</td>\n",
       "    </tr>\n",
       "    <tr>\n",
       "      <th>4</th>\n",
       "      <td>2</td>\n",
       "      <td>371</td>\n",
       "      <td>2014-01-01 00:04:20</td>\n",
       "      <td>31.54</td>\n",
       "    </tr>\n",
       "  </tbody>\n",
       "</table>\n",
       "</div>"
      ],
      "text/plain": [
       "   customer_id  transaction_id    transaction_time  amount\n",
       "0            2             298 2014-01-01 00:00:00  127.64\n",
       "1            2               2 2014-01-01 00:01:05  109.48\n",
       "2            2             308 2014-01-01 00:02:10   95.06\n",
       "3            2             116 2014-01-01 00:03:15   78.92\n",
       "4            2             371 2014-01-01 00:04:20   31.54"
      ]
     },
     "execution_count": 4,
     "metadata": {},
     "output_type": "execute_result"
    }
   ],
   "source": [
    "# select the columns we will work with\n",
    "cols = ['customer_id', 'transaction_id', 'transaction_time', 'amount']\n",
    "data = data[cols]\n",
    "\n",
    "# display data\n",
    "data.head()"
   ]
  },
  {
   "cell_type": "code",
   "execution_count": 5,
   "metadata": {},
   "outputs": [
    {
     "name": "stdout",
     "output_type": "stream",
     "text": [
      "Number of customers: 5\n",
      "Number of transactions: 500\n"
     ]
    }
   ],
   "source": [
    "print('Number of customers: {}'.format(data['customer_id'].nunique()))\n",
    "print('Number of transactions: {}'.format(data['transaction_id'].nunique()))"
   ]
  },
  {
   "cell_type": "code",
   "execution_count": 6,
   "metadata": {},
   "outputs": [
    {
     "data": {
      "text/plain": [
       "customer_id\n",
       "1    126\n",
       "2     93\n",
       "3     93\n",
       "4    109\n",
       "5     79\n",
       "Name: transaction_id, dtype: int64"
      ]
     },
     "execution_count": 6,
     "metadata": {},
     "output_type": "execute_result"
    }
   ],
   "source": [
    "# dispay number of transactions per customer\n",
    "data.groupby('customer_id')['transaction_id'].count()"
   ]
  },
  {
   "cell_type": "markdown",
   "metadata": {},
   "source": [
    "#### Aggregation with Pandas"
   ]
  },
  {
   "cell_type": "code",
   "execution_count": 7,
   "metadata": {},
   "outputs": [
    {
     "data": {
      "text/html": [
       "<div>\n",
       "<style scoped>\n",
       "    .dataframe tbody tr th:only-of-type {\n",
       "        vertical-align: middle;\n",
       "    }\n",
       "\n",
       "    .dataframe tbody tr th {\n",
       "        vertical-align: top;\n",
       "    }\n",
       "\n",
       "    .dataframe thead th {\n",
       "        text-align: right;\n",
       "    }\n",
       "</style>\n",
       "<table border=\"1\" class=\"dataframe\">\n",
       "  <thead>\n",
       "    <tr style=\"text-align: right;\">\n",
       "      <th></th>\n",
       "      <th>total_amount</th>\n",
       "      <th>max_amount</th>\n",
       "      <th>min_amount</th>\n",
       "      <th>mean_amount</th>\n",
       "      <th>median_amount</th>\n",
       "      <th>std_amount</th>\n",
       "      <th>number of transactions</th>\n",
       "    </tr>\n",
       "    <tr>\n",
       "      <th>customer_id</th>\n",
       "      <th></th>\n",
       "      <th></th>\n",
       "      <th></th>\n",
       "      <th></th>\n",
       "      <th></th>\n",
       "      <th></th>\n",
       "      <th></th>\n",
       "    </tr>\n",
       "  </thead>\n",
       "  <tbody>\n",
       "    <tr>\n",
       "      <th>1</th>\n",
       "      <td>9025.62</td>\n",
       "      <td>139.43</td>\n",
       "      <td>5.81</td>\n",
       "      <td>71.631905</td>\n",
       "      <td>69.715</td>\n",
       "      <td>40.442059</td>\n",
       "      <td>126</td>\n",
       "    </tr>\n",
       "    <tr>\n",
       "      <th>2</th>\n",
       "      <td>7200.28</td>\n",
       "      <td>146.81</td>\n",
       "      <td>8.73</td>\n",
       "      <td>77.422366</td>\n",
       "      <td>75.960</td>\n",
       "      <td>37.705178</td>\n",
       "      <td>93</td>\n",
       "    </tr>\n",
       "    <tr>\n",
       "      <th>3</th>\n",
       "      <td>6236.62</td>\n",
       "      <td>149.15</td>\n",
       "      <td>5.89</td>\n",
       "      <td>67.060430</td>\n",
       "      <td>58.930</td>\n",
       "      <td>43.683296</td>\n",
       "      <td>93</td>\n",
       "    </tr>\n",
       "    <tr>\n",
       "      <th>4</th>\n",
       "      <td>8727.68</td>\n",
       "      <td>149.95</td>\n",
       "      <td>5.73</td>\n",
       "      <td>80.070459</td>\n",
       "      <td>81.410</td>\n",
       "      <td>45.068765</td>\n",
       "      <td>109</td>\n",
       "    </tr>\n",
       "    <tr>\n",
       "      <th>5</th>\n",
       "      <td>6349.66</td>\n",
       "      <td>149.02</td>\n",
       "      <td>7.55</td>\n",
       "      <td>80.375443</td>\n",
       "      <td>78.870</td>\n",
       "      <td>44.095630</td>\n",
       "      <td>79</td>\n",
       "    </tr>\n",
       "  </tbody>\n",
       "</table>\n",
       "</div>"
      ],
      "text/plain": [
       "             total_amount  max_amount  min_amount  mean_amount  median_amount  \\\n",
       "customer_id                                                                     \n",
       "1                 9025.62      139.43        5.81    71.631905         69.715   \n",
       "2                 7200.28      146.81        8.73    77.422366         75.960   \n",
       "3                 6236.62      149.15        5.89    67.060430         58.930   \n",
       "4                 8727.68      149.95        5.73    80.070459         81.410   \n",
       "5                 6349.66      149.02        7.55    80.375443         78.870   \n",
       "\n",
       "             std_amount  number of transactions  \n",
       "customer_id                                      \n",
       "1             40.442059                     126  \n",
       "2             37.705178                      93  \n",
       "3             43.683296                      93  \n",
       "4             45.068765                     109  \n",
       "5             44.095630                      79  "
      ]
     },
     "execution_count": 7,
     "metadata": {},
     "output_type": "execute_result"
    }
   ],
   "source": [
    "# list the operations we want to perform\n",
    "operations = ['sum', 'max', 'min', 'mean', 'median', 'std', 'count']\n",
    "\n",
    "# make a list of the new feature names\n",
    "feature_names = ['total_amount', 'max_amount', 'min_amount', 'mean_amount', \n",
    "                 'median_amount', 'std_amount', 'number of transactions'\n",
    "                ]\n",
    "df = pd.DataFrame()\n",
    "\n",
    "# capture new features in a pandas dataframe\n",
    "df[feature_names] = data.groupby('customer_id')['amount'].agg(operations)\n",
    "df"
   ]
  },
  {
   "cell_type": "markdown",
   "metadata": {},
   "source": [
    "#### Aggregation with Featuretools\n",
    "\n",
    "- To work with Featuretools, we need to transform the dataframe into an *entity set*\n",
    "- Basically we pass the entire dataframe indicating the transaction_id as unique identifier and the transaction time as the time index there is one unique timestamp per transaction\n",
    "- Then we indicate that within the entity set there is another table, with customer data, each customer identified with a unique customer id\n",
    "- We set up the feature creation object to aggregate transactions at customer level"
   ]
  },
  {
   "cell_type": "code",
   "execution_count": 8,
   "metadata": {},
   "outputs": [
    {
     "data": {
      "text/plain": [
       "Entityset: customer_data\n",
       "  Entities:\n",
       "    transactions [Rows: 500, Columns: 4]\n",
       "  Relationships:\n",
       "    No relationships"
      ]
     },
     "execution_count": 8,
     "metadata": {},
     "output_type": "execute_result"
    }
   ],
   "source": [
    "# create and entity set\n",
    "es = ft.EntitySet(id=\"customer_data\")\n",
    "\n",
    "# add transactions table to the entity set\n",
    "es.entity_from_dataframe(entity_id='transactions',\n",
    "                         dataframe=data[cols],\n",
    "                         index=\"transaction_id\",\n",
    "                         time_index='transaction_time')\n",
    "es"
   ]
  },
  {
   "cell_type": "code",
   "execution_count": 9,
   "metadata": {},
   "outputs": [
    {
     "data": {
      "text/plain": [
       "Entityset: customer_data\n",
       "  Entities:\n",
       "    transactions [Rows: 500, Columns: 4]\n",
       "    customers [Rows: 5, Columns: 2]\n",
       "  Relationships:\n",
       "    transactions.customer_id -> customers.customer_id"
      ]
     },
     "execution_count": 9,
     "metadata": {},
     "output_type": "execute_result"
    }
   ],
   "source": [
    "# within the entity set there is another table\n",
    "es.normalize_entity(base_entity_id=\"transactions\",\n",
    "                    new_entity_id=\"customers\",\n",
    "                    index=\"customer_id\")"
   ]
  },
  {
   "cell_type": "code",
   "execution_count": 10,
   "metadata": {},
   "outputs": [
    {
     "data": {
      "text/plain": [
       "['sum', 'max', 'min', 'mean', 'median', 'std', 'count']"
      ]
     },
     "execution_count": 10,
     "metadata": {},
     "output_type": "execute_result"
    }
   ],
   "source": [
    "# print out the operations \n",
    "operations"
   ]
  },
  {
   "cell_type": "code",
   "execution_count": 11,
   "metadata": {
    "scrolled": true
   },
   "outputs": [
    {
     "name": "stdout",
     "output_type": "stream",
     "text": [
      "Built 7 features\n",
      "Elapsed: 00:00 | Progress: 100%|███████████████████████████████████████████████████████████████████████████████████████\n"
     ]
    },
    {
     "data": {
      "text/html": [
       "<div>\n",
       "<style scoped>\n",
       "    .dataframe tbody tr th:only-of-type {\n",
       "        vertical-align: middle;\n",
       "    }\n",
       "\n",
       "    .dataframe tbody tr th {\n",
       "        vertical-align: top;\n",
       "    }\n",
       "\n",
       "    .dataframe thead th {\n",
       "        text-align: right;\n",
       "    }\n",
       "</style>\n",
       "<table border=\"1\" class=\"dataframe\">\n",
       "  <thead>\n",
       "    <tr style=\"text-align: right;\">\n",
       "      <th></th>\n",
       "      <th>SUM(transactions.amount)</th>\n",
       "      <th>MAX(transactions.amount)</th>\n",
       "      <th>MIN(transactions.amount)</th>\n",
       "      <th>MEAN(transactions.amount)</th>\n",
       "      <th>MEDIAN(transactions.amount)</th>\n",
       "      <th>STD(transactions.amount)</th>\n",
       "      <th>COUNT(transactions)</th>\n",
       "    </tr>\n",
       "    <tr>\n",
       "      <th>customer_id</th>\n",
       "      <th></th>\n",
       "      <th></th>\n",
       "      <th></th>\n",
       "      <th></th>\n",
       "      <th></th>\n",
       "      <th></th>\n",
       "      <th></th>\n",
       "    </tr>\n",
       "  </thead>\n",
       "  <tbody>\n",
       "    <tr>\n",
       "      <th>2</th>\n",
       "      <td>7200.28</td>\n",
       "      <td>146.81</td>\n",
       "      <td>8.73</td>\n",
       "      <td>77.422366</td>\n",
       "      <td>75.960</td>\n",
       "      <td>37.705178</td>\n",
       "      <td>93</td>\n",
       "    </tr>\n",
       "    <tr>\n",
       "      <th>5</th>\n",
       "      <td>6349.66</td>\n",
       "      <td>149.02</td>\n",
       "      <td>7.55</td>\n",
       "      <td>80.375443</td>\n",
       "      <td>78.870</td>\n",
       "      <td>44.095630</td>\n",
       "      <td>79</td>\n",
       "    </tr>\n",
       "    <tr>\n",
       "      <th>4</th>\n",
       "      <td>8727.68</td>\n",
       "      <td>149.95</td>\n",
       "      <td>5.73</td>\n",
       "      <td>80.070459</td>\n",
       "      <td>81.410</td>\n",
       "      <td>45.068765</td>\n",
       "      <td>109</td>\n",
       "    </tr>\n",
       "    <tr>\n",
       "      <th>1</th>\n",
       "      <td>9025.62</td>\n",
       "      <td>139.43</td>\n",
       "      <td>5.81</td>\n",
       "      <td>71.631905</td>\n",
       "      <td>69.715</td>\n",
       "      <td>40.442059</td>\n",
       "      <td>126</td>\n",
       "    </tr>\n",
       "    <tr>\n",
       "      <th>3</th>\n",
       "      <td>6236.62</td>\n",
       "      <td>149.15</td>\n",
       "      <td>5.89</td>\n",
       "      <td>67.060430</td>\n",
       "      <td>58.930</td>\n",
       "      <td>43.683296</td>\n",
       "      <td>93</td>\n",
       "    </tr>\n",
       "  </tbody>\n",
       "</table>\n",
       "</div>"
      ],
      "text/plain": [
       "             SUM(transactions.amount)  MAX(transactions.amount)  \\\n",
       "customer_id                                                       \n",
       "2                             7200.28                    146.81   \n",
       "5                             6349.66                    149.02   \n",
       "4                             8727.68                    149.95   \n",
       "1                             9025.62                    139.43   \n",
       "3                             6236.62                    149.15   \n",
       "\n",
       "             MIN(transactions.amount)  MEAN(transactions.amount)  \\\n",
       "customer_id                                                        \n",
       "2                                8.73                  77.422366   \n",
       "5                                7.55                  80.375443   \n",
       "4                                5.73                  80.070459   \n",
       "1                                5.81                  71.631905   \n",
       "3                                5.89                  67.060430   \n",
       "\n",
       "             MEDIAN(transactions.amount)  STD(transactions.amount)  \\\n",
       "customer_id                                                          \n",
       "2                                 75.960                 37.705178   \n",
       "5                                 78.870                 44.095630   \n",
       "4                                 81.410                 45.068765   \n",
       "1                                 69.715                 40.442059   \n",
       "3                                 58.930                 43.683296   \n",
       "\n",
       "             COUNT(transactions)  \n",
       "customer_id                       \n",
       "2                             93  \n",
       "5                             79  \n",
       "4                            109  \n",
       "1                            126  \n",
       "3                             93  "
      ]
     },
     "execution_count": 11,
     "metadata": {},
     "output_type": "execute_result"
    }
   ],
   "source": [
    "# aggregate transactions at customer level\n",
    "feature_matrix, features = ft.dfs(entityset=es,\n",
    "                                  target_entity=\"customers\",\n",
    "                                  agg_primitives=operations,\n",
    "                                  trans_primitives=[],\n",
    "                                  verbose=True,\n",
    "                                  )\n",
    "# dataframe with the new features\n",
    "feature_matrix"
   ]
  },
  {
   "cell_type": "markdown",
   "metadata": {},
   "source": [
    "If you compare this table to the one created in 8, the values should be identical."
   ]
  },
  {
   "cell_type": "markdown",
   "metadata": {},
   "source": [
    "## 10.2 Aggregating transactions in a time window"
   ]
  },
  {
   "cell_type": "markdown",
   "metadata": {},
   "source": [
    "- When we want to predict an event at a certain point in time, often, transactions or values closer to the event tend to be more relevant. \n",
    "- Then, if we want to predict whether a customer will churn next week, the information in the last weeks or months tends to be more informative than the transactions of the customer in the past 5 years.\n",
    "- We can use mathematical operations to summarize historical data, just like we did in the previous section, but only for a certain temporal window. \n",
    "- This way, we can create features such as the maximum amount spent in the last week or the number of transactions in the last month, to name a few examples. \n",
    "- In this section, we will summarize time series data over discrete time windows using pandas."
   ]
  },
  {
   "cell_type": "code",
   "execution_count": 12,
   "metadata": {},
   "outputs": [],
   "source": [
    "import pandas as pd\n",
    "import matplotlib.pyplot as plt"
   ]
  },
  {
   "cell_type": "code",
   "execution_count": 13,
   "metadata": {},
   "outputs": [
    {
     "data": {
      "text/html": [
       "<div>\n",
       "<style scoped>\n",
       "    .dataframe tbody tr th:only-of-type {\n",
       "        vertical-align: middle;\n",
       "    }\n",
       "\n",
       "    .dataframe tbody tr th {\n",
       "        vertical-align: top;\n",
       "    }\n",
       "\n",
       "    .dataframe thead th {\n",
       "        text-align: right;\n",
       "    }\n",
       "</style>\n",
       "<table border=\"1\" class=\"dataframe\">\n",
       "  <thead>\n",
       "    <tr style=\"text-align: right;\">\n",
       "      <th></th>\n",
       "      <th>date</th>\n",
       "      <th>Appliances</th>\n",
       "      <th>lights</th>\n",
       "    </tr>\n",
       "  </thead>\n",
       "  <tbody>\n",
       "    <tr>\n",
       "      <th>0</th>\n",
       "      <td>2016-01-11 17:00:00</td>\n",
       "      <td>60</td>\n",
       "      <td>30</td>\n",
       "    </tr>\n",
       "    <tr>\n",
       "      <th>1</th>\n",
       "      <td>2016-01-11 17:10:00</td>\n",
       "      <td>60</td>\n",
       "      <td>30</td>\n",
       "    </tr>\n",
       "    <tr>\n",
       "      <th>2</th>\n",
       "      <td>2016-01-11 17:20:00</td>\n",
       "      <td>50</td>\n",
       "      <td>30</td>\n",
       "    </tr>\n",
       "    <tr>\n",
       "      <th>3</th>\n",
       "      <td>2016-01-11 17:30:00</td>\n",
       "      <td>50</td>\n",
       "      <td>40</td>\n",
       "    </tr>\n",
       "    <tr>\n",
       "      <th>4</th>\n",
       "      <td>2016-01-11 17:40:00</td>\n",
       "      <td>60</td>\n",
       "      <td>40</td>\n",
       "    </tr>\n",
       "  </tbody>\n",
       "</table>\n",
       "</div>"
      ],
      "text/plain": [
       "                  date  Appliances  lights\n",
       "0  2016-01-11 17:00:00          60      30\n",
       "1  2016-01-11 17:10:00          60      30\n",
       "2  2016-01-11 17:20:00          50      30\n",
       "3  2016-01-11 17:30:00          50      40\n",
       "4  2016-01-11 17:40:00          60      40"
      ]
     },
     "execution_count": 13,
     "metadata": {},
     "output_type": "execute_result"
    }
   ],
   "source": [
    "# load the appliances energy prediction data set\n",
    "cols = ['date', 'Appliances', 'lights']\n",
    "data = pd.read_csv('data/energydata.csv', usecols=cols)\n",
    "data.head()"
   ]
  },
  {
   "cell_type": "code",
   "execution_count": 14,
   "metadata": {},
   "outputs": [
    {
     "data": {
      "text/plain": [
       "(19735, 3)"
      ]
     },
     "execution_count": 14,
     "metadata": {},
     "output_type": "execute_result"
    }
   ],
   "source": [
    "data.shape"
   ]
  },
  {
   "cell_type": "code",
   "execution_count": 15,
   "metadata": {},
   "outputs": [
    {
     "data": {
      "text/plain": [
       "date          object\n",
       "Appliances     int64\n",
       "lights         int64\n",
       "dtype: object"
      ]
     },
     "execution_count": 15,
     "metadata": {},
     "output_type": "execute_result"
    }
   ],
   "source": [
    "data.dtypes"
   ]
  },
  {
   "cell_type": "code",
   "execution_count": 16,
   "metadata": {},
   "outputs": [
    {
     "data": {
      "text/plain": [
       "Text(0, 0.5, 'Number of rows')"
      ]
     },
     "execution_count": 16,
     "metadata": {},
     "output_type": "execute_result"
    },
    {
     "data": {
      "image/png": "[encoded data removed]",
      "text/plain": [
       "<Figure size 432x288 with 1 Axes>"
      ]
     },
     "metadata": {
      "needs_background": "light"
     },
     "output_type": "display_data"
    }
   ],
   "source": [
    "# histogram of electirivy consumption by appliance\n",
    "data['Appliances'].hist(bins=30)\n",
    "plt.title('Energy consumption by Appliances in Kh')\n",
    "plt.xlabel('Energy consumption in Kh')\n",
    "plt.ylabel('Number of rows')"
   ]
  },
  {
   "cell_type": "code",
   "execution_count": 17,
   "metadata": {},
   "outputs": [
    {
     "data": {
      "text/plain": [
       "Text(0, 0.5, 'Number of rows')"
      ]
     },
     "execution_count": 17,
     "metadata": {},
     "output_type": "execute_result"
    },
    {
     "data": {
      "image/png": "[encoded data removed]",
      "text/plain": [
       "<Figure size 432x288 with 1 Axes>"
      ]
     },
     "metadata": {
      "needs_background": "light"
     },
     "output_type": "display_data"
    }
   ],
   "source": [
    "# Make histogram of electirivy consumption by lights \n",
    "data['lights'].value_counts().plot.bar()\n",
    "plt.title('Energy consumption by lights in Kh')\n",
    "plt.xlabel('Energy consumption in Kh')\n",
    "plt.ylabel('Number of rows')"
   ]
  },
  {
   "cell_type": "code",
   "execution_count": 18,
   "metadata": {},
   "outputs": [
    {
     "data": {
      "text/plain": [
       "min    2016-01-11 17:00:00\n",
       "max    2016-05-27 18:00:00\n",
       "Name: date, dtype: object"
      ]
     },
     "execution_count": 18,
     "metadata": {},
     "output_type": "execute_result"
    }
   ],
   "source": [
    "# check maximun and minimum dates\n",
    "data['date'].agg(['min', 'max'])"
   ]
  },
  {
   "cell_type": "code",
   "execution_count": 19,
   "metadata": {},
   "outputs": [
    {
     "data": {
      "text/plain": [
       "Text(0.5, 1.0, 'Energy consumption by Appliances in time')"
      ]
     },
     "execution_count": 19,
     "metadata": {},
     "output_type": "execute_result"
    },
    {
     "data": {
      "image/png": "[encoded data removed]",
      "text/plain": [
       "<Figure size 864x288 with 1 Axes>"
      ]
     },
     "metadata": {
      "needs_background": "light"
     },
     "output_type": "display_data"
    }
   ],
   "source": [
    "# parse the date column as datetime data type\n",
    "data['date'] = pd.to_datetime(data['date'])\n",
    "\n",
    "# plot consumption per timepoint by appliances\n",
    "tmp = data.copy()\n",
    "tmp.index = tmp['date']\n",
    "\n",
    "tmp['Appliances'].plot(figsize=(12, 4))\n",
    "plt.ylabel('Energy in Kh')\n",
    "plt.title('Energy consumption by Appliances in time')"
   ]
  },
  {
   "cell_type": "code",
   "execution_count": 20,
   "metadata": {},
   "outputs": [
    {
     "data": {
      "text/plain": [
       "Text(0.5, 1.0, 'Energy consumption by lights in time')"
      ]
     },
     "execution_count": 20,
     "metadata": {},
     "output_type": "execute_result"
    },
    {
     "data": {
      "image/png": "[encoded data removed]",
      "text/plain": [
       "<Figure size 864x288 with 1 Axes>"
      ]
     },
     "metadata": {
      "needs_background": "light"
     },
     "output_type": "display_data"
    }
   ],
   "source": [
    "# plot consumption per timepoint by lights\n",
    "tmp['lights'].plot(figsize=(12,4))\n",
    "plt.ylabel('Energy in Kh')\n",
    "plt.title('Energy consumption by lights in time')"
   ]
  },
  {
   "cell_type": "markdown",
   "metadata": {},
   "source": [
    "### Determine statistical parameters per hr\n",
    "#### Single operation\n",
    "Two ways to do it:\n",
    "1. Aggregate the data in 60 min views: the value displayed by the features represents the average of the current and 5 precedent rows of data\n",
    "2. Indicate rolling time: instead of averaging the previous 6 rows, now we indicate a time period Pandas rolling will use the date variable to determine the periods"
   ]
  },
  {
   "cell_type": "code",
   "execution_count": 21,
   "metadata": {},
   "outputs": [
    {
     "data": {
      "text/html": [
       "<div>\n",
       "<style scoped>\n",
       "    .dataframe tbody tr th:only-of-type {\n",
       "        vertical-align: middle;\n",
       "    }\n",
       "\n",
       "    .dataframe tbody tr th {\n",
       "        vertical-align: top;\n",
       "    }\n",
       "\n",
       "    .dataframe thead th {\n",
       "        text-align: right;\n",
       "    }\n",
       "</style>\n",
       "<table border=\"1\" class=\"dataframe\">\n",
       "  <thead>\n",
       "    <tr style=\"text-align: right;\">\n",
       "      <th></th>\n",
       "      <th>date</th>\n",
       "      <th>Appliances</th>\n",
       "      <th>lights</th>\n",
       "    </tr>\n",
       "  </thead>\n",
       "  <tbody>\n",
       "    <tr>\n",
       "      <th>0</th>\n",
       "      <td>2016-01-11 17:00:00</td>\n",
       "      <td>NaN</td>\n",
       "      <td>NaN</td>\n",
       "    </tr>\n",
       "    <tr>\n",
       "      <th>1</th>\n",
       "      <td>2016-01-11 17:10:00</td>\n",
       "      <td>NaN</td>\n",
       "      <td>NaN</td>\n",
       "    </tr>\n",
       "    <tr>\n",
       "      <th>2</th>\n",
       "      <td>2016-01-11 17:20:00</td>\n",
       "      <td>NaN</td>\n",
       "      <td>NaN</td>\n",
       "    </tr>\n",
       "    <tr>\n",
       "      <th>3</th>\n",
       "      <td>2016-01-11 17:30:00</td>\n",
       "      <td>NaN</td>\n",
       "      <td>NaN</td>\n",
       "    </tr>\n",
       "    <tr>\n",
       "      <th>4</th>\n",
       "      <td>2016-01-11 17:40:00</td>\n",
       "      <td>NaN</td>\n",
       "      <td>NaN</td>\n",
       "    </tr>\n",
       "    <tr>\n",
       "      <th>5</th>\n",
       "      <td>2016-01-11 17:50:00</td>\n",
       "      <td>55.000000</td>\n",
       "      <td>35.000000</td>\n",
       "    </tr>\n",
       "    <tr>\n",
       "      <th>6</th>\n",
       "      <td>2016-01-11 18:00:00</td>\n",
       "      <td>55.000000</td>\n",
       "      <td>38.333333</td>\n",
       "    </tr>\n",
       "    <tr>\n",
       "      <th>7</th>\n",
       "      <td>2016-01-11 18:10:00</td>\n",
       "      <td>55.000000</td>\n",
       "      <td>41.666667</td>\n",
       "    </tr>\n",
       "    <tr>\n",
       "      <th>8</th>\n",
       "      <td>2016-01-11 18:20:00</td>\n",
       "      <td>56.666667</td>\n",
       "      <td>43.333333</td>\n",
       "    </tr>\n",
       "    <tr>\n",
       "      <th>9</th>\n",
       "      <td>2016-01-11 18:30:00</td>\n",
       "      <td>60.000000</td>\n",
       "      <td>43.333333</td>\n",
       "    </tr>\n",
       "  </tbody>\n",
       "</table>\n",
       "</div>"
      ],
      "text/plain": [
       "                 date  Appliances     lights\n",
       "0 2016-01-11 17:00:00         NaN        NaN\n",
       "1 2016-01-11 17:10:00         NaN        NaN\n",
       "2 2016-01-11 17:20:00         NaN        NaN\n",
       "3 2016-01-11 17:30:00         NaN        NaN\n",
       "4 2016-01-11 17:40:00         NaN        NaN\n",
       "5 2016-01-11 17:50:00   55.000000  35.000000\n",
       "6 2016-01-11 18:00:00   55.000000  38.333333\n",
       "7 2016-01-11 18:10:00   55.000000  41.666667\n",
       "8 2016-01-11 18:20:00   56.666667  43.333333\n",
       "9 2016-01-11 18:30:00   60.000000  43.333333"
      ]
     },
     "execution_count": 21,
     "metadata": {},
     "output_type": "execute_result"
    }
   ],
   "source": [
    "# method 1\n",
    "data_rolled = data.rolling(window=6, on='date').mean()\n",
    "data_rolled.head(10)"
   ]
  },
  {
   "cell_type": "code",
   "execution_count": 22,
   "metadata": {},
   "outputs": [
    {
     "data": {
      "text/html": [
       "<div>\n",
       "<style scoped>\n",
       "    .dataframe tbody tr th:only-of-type {\n",
       "        vertical-align: middle;\n",
       "    }\n",
       "\n",
       "    .dataframe tbody tr th {\n",
       "        vertical-align: top;\n",
       "    }\n",
       "\n",
       "    .dataframe thead th {\n",
       "        text-align: right;\n",
       "    }\n",
       "</style>\n",
       "<table border=\"1\" class=\"dataframe\">\n",
       "  <thead>\n",
       "    <tr style=\"text-align: right;\">\n",
       "      <th></th>\n",
       "      <th>date</th>\n",
       "      <th>Appliances</th>\n",
       "      <th>lights</th>\n",
       "    </tr>\n",
       "  </thead>\n",
       "  <tbody>\n",
       "    <tr>\n",
       "      <th>0</th>\n",
       "      <td>2016-01-11 17:00:00</td>\n",
       "      <td>NaN</td>\n",
       "      <td>NaN</td>\n",
       "    </tr>\n",
       "    <tr>\n",
       "      <th>1</th>\n",
       "      <td>2016-01-11 17:10:00</td>\n",
       "      <td>NaN</td>\n",
       "      <td>NaN</td>\n",
       "    </tr>\n",
       "    <tr>\n",
       "      <th>2</th>\n",
       "      <td>2016-01-11 17:20:00</td>\n",
       "      <td>NaN</td>\n",
       "      <td>NaN</td>\n",
       "    </tr>\n",
       "    <tr>\n",
       "      <th>3</th>\n",
       "      <td>2016-01-11 17:30:00</td>\n",
       "      <td>NaN</td>\n",
       "      <td>NaN</td>\n",
       "    </tr>\n",
       "    <tr>\n",
       "      <th>4</th>\n",
       "      <td>2016-01-11 17:40:00</td>\n",
       "      <td>NaN</td>\n",
       "      <td>NaN</td>\n",
       "    </tr>\n",
       "    <tr>\n",
       "      <th>5</th>\n",
       "      <td>2016-01-11 17:50:00</td>\n",
       "      <td>55.000000</td>\n",
       "      <td>35.000000</td>\n",
       "    </tr>\n",
       "    <tr>\n",
       "      <th>6</th>\n",
       "      <td>2016-01-11 18:00:00</td>\n",
       "      <td>55.000000</td>\n",
       "      <td>38.333333</td>\n",
       "    </tr>\n",
       "    <tr>\n",
       "      <th>7</th>\n",
       "      <td>2016-01-11 18:10:00</td>\n",
       "      <td>55.000000</td>\n",
       "      <td>41.666667</td>\n",
       "    </tr>\n",
       "    <tr>\n",
       "      <th>8</th>\n",
       "      <td>2016-01-11 18:20:00</td>\n",
       "      <td>56.666667</td>\n",
       "      <td>43.333333</td>\n",
       "    </tr>\n",
       "    <tr>\n",
       "      <th>9</th>\n",
       "      <td>2016-01-11 18:30:00</td>\n",
       "      <td>60.000000</td>\n",
       "      <td>43.333333</td>\n",
       "    </tr>\n",
       "  </tbody>\n",
       "</table>\n",
       "</div>"
      ],
      "text/plain": [
       "                 date  Appliances     lights\n",
       "0 2016-01-11 17:00:00         NaN        NaN\n",
       "1 2016-01-11 17:10:00         NaN        NaN\n",
       "2 2016-01-11 17:20:00         NaN        NaN\n",
       "3 2016-01-11 17:30:00         NaN        NaN\n",
       "4 2016-01-11 17:40:00         NaN        NaN\n",
       "5 2016-01-11 17:50:00   55.000000  35.000000\n",
       "6 2016-01-11 18:00:00   55.000000  38.333333\n",
       "7 2016-01-11 18:10:00   55.000000  41.666667\n",
       "8 2016-01-11 18:20:00   56.666667  43.333333\n",
       "9 2016-01-11 18:30:00   60.000000  43.333333"
      ]
     },
     "execution_count": 22,
     "metadata": {},
     "output_type": "execute_result"
    }
   ],
   "source": [
    "# method 2\n",
    "data_rolled = data.rolling(window='60min', on='date', min_periods=6).mean()\n",
    "data_rolled.head(10)"
   ]
  },
  {
   "cell_type": "markdown",
   "metadata": {},
   "source": [
    "#### Multiple built-in operations\n",
    "Create multiple summaries for every 60 min window\n",
    "- Start by making a list of the operations we want to perform\n",
    "- Create a dictionary with the operations to apply to each variable\n",
    "- And finally, create the aggregations"
   ]
  },
  {
   "cell_type": "code",
   "execution_count": 23,
   "metadata": {},
   "outputs": [
    {
     "data": {
      "text/plain": [
       "{'Appliances': ['sum', 'max', 'min', 'mean', 'median', 'std'],\n",
       " 'lights': ['sum', 'max', 'min', 'mean', 'median', 'std']}"
      ]
     },
     "execution_count": 23,
     "metadata": {},
     "output_type": "execute_result"
    }
   ],
   "source": [
    "# make a list \n",
    "operations = ['sum', 'max', 'min', 'mean', 'median', 'std']\n",
    "\n",
    "# we will apply all operations to both variables\n",
    "op_dict = {key: operations for key in ['Appliances', 'lights']}\n",
    "op_dict"
   ]
  },
  {
   "cell_type": "code",
   "execution_count": 24,
   "metadata": {},
   "outputs": [
    {
     "data": {
      "text/html": [
       "<div>\n",
       "<style scoped>\n",
       "    .dataframe tbody tr th:only-of-type {\n",
       "        vertical-align: middle;\n",
       "    }\n",
       "\n",
       "    .dataframe tbody tr th {\n",
       "        vertical-align: top;\n",
       "    }\n",
       "\n",
       "    .dataframe thead tr th {\n",
       "        text-align: left;\n",
       "    }\n",
       "\n",
       "    .dataframe thead tr:last-of-type th {\n",
       "        text-align: right;\n",
       "    }\n",
       "</style>\n",
       "<table border=\"1\" class=\"dataframe\">\n",
       "  <thead>\n",
       "    <tr>\n",
       "      <th></th>\n",
       "      <th colspan=\"6\" halign=\"left\">Appliances</th>\n",
       "      <th colspan=\"6\" halign=\"left\">lights</th>\n",
       "    </tr>\n",
       "    <tr>\n",
       "      <th></th>\n",
       "      <th>sum</th>\n",
       "      <th>max</th>\n",
       "      <th>min</th>\n",
       "      <th>mean</th>\n",
       "      <th>median</th>\n",
       "      <th>std</th>\n",
       "      <th>sum</th>\n",
       "      <th>max</th>\n",
       "      <th>min</th>\n",
       "      <th>mean</th>\n",
       "      <th>median</th>\n",
       "      <th>std</th>\n",
       "    </tr>\n",
       "    <tr>\n",
       "      <th>date</th>\n",
       "      <th></th>\n",
       "      <th></th>\n",
       "      <th></th>\n",
       "      <th></th>\n",
       "      <th></th>\n",
       "      <th></th>\n",
       "      <th></th>\n",
       "      <th></th>\n",
       "      <th></th>\n",
       "      <th></th>\n",
       "      <th></th>\n",
       "      <th></th>\n",
       "    </tr>\n",
       "  </thead>\n",
       "  <tbody>\n",
       "    <tr>\n",
       "      <th>2016-01-11 17:00:00</th>\n",
       "      <td>60.0</td>\n",
       "      <td>60.0</td>\n",
       "      <td>60.0</td>\n",
       "      <td>60.000000</td>\n",
       "      <td>60.0</td>\n",
       "      <td>NaN</td>\n",
       "      <td>30.0</td>\n",
       "      <td>30.0</td>\n",
       "      <td>30.0</td>\n",
       "      <td>30.000000</td>\n",
       "      <td>30.0</td>\n",
       "      <td>NaN</td>\n",
       "    </tr>\n",
       "    <tr>\n",
       "      <th>2016-01-11 17:10:00</th>\n",
       "      <td>120.0</td>\n",
       "      <td>60.0</td>\n",
       "      <td>60.0</td>\n",
       "      <td>60.000000</td>\n",
       "      <td>60.0</td>\n",
       "      <td>0.000000</td>\n",
       "      <td>60.0</td>\n",
       "      <td>30.0</td>\n",
       "      <td>30.0</td>\n",
       "      <td>30.000000</td>\n",
       "      <td>30.0</td>\n",
       "      <td>0.000000</td>\n",
       "    </tr>\n",
       "    <tr>\n",
       "      <th>2016-01-11 17:20:00</th>\n",
       "      <td>170.0</td>\n",
       "      <td>60.0</td>\n",
       "      <td>50.0</td>\n",
       "      <td>56.666667</td>\n",
       "      <td>60.0</td>\n",
       "      <td>5.773503</td>\n",
       "      <td>90.0</td>\n",
       "      <td>30.0</td>\n",
       "      <td>30.0</td>\n",
       "      <td>30.000000</td>\n",
       "      <td>30.0</td>\n",
       "      <td>0.000000</td>\n",
       "    </tr>\n",
       "    <tr>\n",
       "      <th>2016-01-11 17:30:00</th>\n",
       "      <td>220.0</td>\n",
       "      <td>60.0</td>\n",
       "      <td>50.0</td>\n",
       "      <td>55.000000</td>\n",
       "      <td>55.0</td>\n",
       "      <td>5.773503</td>\n",
       "      <td>130.0</td>\n",
       "      <td>40.0</td>\n",
       "      <td>30.0</td>\n",
       "      <td>32.500000</td>\n",
       "      <td>30.0</td>\n",
       "      <td>5.000000</td>\n",
       "    </tr>\n",
       "    <tr>\n",
       "      <th>2016-01-11 17:40:00</th>\n",
       "      <td>280.0</td>\n",
       "      <td>60.0</td>\n",
       "      <td>50.0</td>\n",
       "      <td>56.000000</td>\n",
       "      <td>60.0</td>\n",
       "      <td>5.477226</td>\n",
       "      <td>170.0</td>\n",
       "      <td>40.0</td>\n",
       "      <td>30.0</td>\n",
       "      <td>34.000000</td>\n",
       "      <td>30.0</td>\n",
       "      <td>5.477226</td>\n",
       "    </tr>\n",
       "    <tr>\n",
       "      <th>2016-01-11 17:50:00</th>\n",
       "      <td>330.0</td>\n",
       "      <td>60.0</td>\n",
       "      <td>50.0</td>\n",
       "      <td>55.000000</td>\n",
       "      <td>55.0</td>\n",
       "      <td>5.477226</td>\n",
       "      <td>210.0</td>\n",
       "      <td>40.0</td>\n",
       "      <td>30.0</td>\n",
       "      <td>35.000000</td>\n",
       "      <td>35.0</td>\n",
       "      <td>5.477226</td>\n",
       "    </tr>\n",
       "    <tr>\n",
       "      <th>2016-01-11 18:00:00</th>\n",
       "      <td>330.0</td>\n",
       "      <td>60.0</td>\n",
       "      <td>50.0</td>\n",
       "      <td>55.000000</td>\n",
       "      <td>55.0</td>\n",
       "      <td>5.477226</td>\n",
       "      <td>230.0</td>\n",
       "      <td>50.0</td>\n",
       "      <td>30.0</td>\n",
       "      <td>38.333333</td>\n",
       "      <td>40.0</td>\n",
       "      <td>7.527727</td>\n",
       "    </tr>\n",
       "    <tr>\n",
       "      <th>2016-01-11 18:10:00</th>\n",
       "      <td>330.0</td>\n",
       "      <td>60.0</td>\n",
       "      <td>50.0</td>\n",
       "      <td>55.000000</td>\n",
       "      <td>55.0</td>\n",
       "      <td>5.477226</td>\n",
       "      <td>250.0</td>\n",
       "      <td>50.0</td>\n",
       "      <td>30.0</td>\n",
       "      <td>41.666667</td>\n",
       "      <td>40.0</td>\n",
       "      <td>7.527727</td>\n",
       "    </tr>\n",
       "    <tr>\n",
       "      <th>2016-01-11 18:20:00</th>\n",
       "      <td>340.0</td>\n",
       "      <td>60.0</td>\n",
       "      <td>50.0</td>\n",
       "      <td>56.666667</td>\n",
       "      <td>60.0</td>\n",
       "      <td>5.163978</td>\n",
       "      <td>260.0</td>\n",
       "      <td>50.0</td>\n",
       "      <td>40.0</td>\n",
       "      <td>43.333333</td>\n",
       "      <td>40.0</td>\n",
       "      <td>5.163978</td>\n",
       "    </tr>\n",
       "    <tr>\n",
       "      <th>2016-01-11 18:30:00</th>\n",
       "      <td>360.0</td>\n",
       "      <td>70.0</td>\n",
       "      <td>50.0</td>\n",
       "      <td>60.000000</td>\n",
       "      <td>60.0</td>\n",
       "      <td>6.324555</td>\n",
       "      <td>260.0</td>\n",
       "      <td>50.0</td>\n",
       "      <td>40.0</td>\n",
       "      <td>43.333333</td>\n",
       "      <td>40.0</td>\n",
       "      <td>5.163978</td>\n",
       "    </tr>\n",
       "  </tbody>\n",
       "</table>\n",
       "</div>"
      ],
      "text/plain": [
       "                    Appliances                                         lights  \\\n",
       "                           sum   max   min       mean median       std    sum   \n",
       "date                                                                            \n",
       "2016-01-11 17:00:00       60.0  60.0  60.0  60.000000   60.0       NaN   30.0   \n",
       "2016-01-11 17:10:00      120.0  60.0  60.0  60.000000   60.0  0.000000   60.0   \n",
       "2016-01-11 17:20:00      170.0  60.0  50.0  56.666667   60.0  5.773503   90.0   \n",
       "2016-01-11 17:30:00      220.0  60.0  50.0  55.000000   55.0  5.773503  130.0   \n",
       "2016-01-11 17:40:00      280.0  60.0  50.0  56.000000   60.0  5.477226  170.0   \n",
       "2016-01-11 17:50:00      330.0  60.0  50.0  55.000000   55.0  5.477226  210.0   \n",
       "2016-01-11 18:00:00      330.0  60.0  50.0  55.000000   55.0  5.477226  230.0   \n",
       "2016-01-11 18:10:00      330.0  60.0  50.0  55.000000   55.0  5.477226  250.0   \n",
       "2016-01-11 18:20:00      340.0  60.0  50.0  56.666667   60.0  5.163978  260.0   \n",
       "2016-01-11 18:30:00      360.0  70.0  50.0  60.000000   60.0  6.324555  260.0   \n",
       "\n",
       "                                                             \n",
       "                      max   min       mean median       std  \n",
       "date                                                         \n",
       "2016-01-11 17:00:00  30.0  30.0  30.000000   30.0       NaN  \n",
       "2016-01-11 17:10:00  30.0  30.0  30.000000   30.0  0.000000  \n",
       "2016-01-11 17:20:00  30.0  30.0  30.000000   30.0  0.000000  \n",
       "2016-01-11 17:30:00  40.0  30.0  32.500000   30.0  5.000000  \n",
       "2016-01-11 17:40:00  40.0  30.0  34.000000   30.0  5.477226  \n",
       "2016-01-11 17:50:00  40.0  30.0  35.000000   35.0  5.477226  \n",
       "2016-01-11 18:00:00  50.0  30.0  38.333333   40.0  7.527727  \n",
       "2016-01-11 18:10:00  50.0  30.0  41.666667   40.0  7.527727  \n",
       "2016-01-11 18:20:00  50.0  40.0  43.333333   40.0  5.163978  \n",
       "2016-01-11 18:30:00  50.0  40.0  43.333333   40.0  5.163978  "
      ]
     },
     "execution_count": 24,
     "metadata": {},
     "output_type": "execute_result"
    }
   ],
   "source": [
    "# aggregations\n",
    "data_rolled = data.set_index('date').rolling(window='60min').agg(op_dict)\n",
    "data_rolled.head(10)"
   ]
  },
  {
   "cell_type": "markdown",
   "metadata": {},
   "source": [
    "#### There's more...\n",
    "- In this recipe, we created new features that aggregate energy consumption with commonly used mathematical computations, which are built into pandas. \n",
    "- We can also apply *user-defined computations*. \n",
    "- In this sub-section, we will create two functions to detect the number of local maxima and minima in time series, and then calculate those values per day of energy consumption.\n",
    "- To do this, we'll import pandas, load the data, and parse the date variable into datetime format"
   ]
  },
  {
   "cell_type": "code",
   "execution_count": 25,
   "metadata": {},
   "outputs": [],
   "source": [
    "from scipy.signal import find_peaks\n",
    "\n",
    "def find_no_peaks(x):\n",
    "    peaks, _ = find_peaks(x)\n",
    "    return len(peaks)\n",
    "\n",
    "def find_no_valleys(x):\n",
    "    valleys, _ = find_peaks(1/x)\n",
    "    return len(valleys)"
   ]
  },
  {
   "cell_type": "code",
   "execution_count": 26,
   "metadata": {},
   "outputs": [],
   "source": [
    "# local minima and maxima per day\n",
    "data_rolled = data.set_index('date').rolling(window=144).agg([find_no_peaks, find_no_valleys])\n",
    "\n",
    "for row in range(144, 1440, 144):\n",
    "    data_rolled.iloc[[row]]"
   ]
  },
  {
   "cell_type": "markdown",
   "metadata": {},
   "source": [
    "- You can view the output of the command above by adding the print function to it: *print(data_rolled.iloc[[row]])*\n",
    "- Energy consumption is recorded every 10 minutes. This means that 144 rows contain the energy that's consumed in 1 day.\n",
    "- An alternative implementation specifically indicating 1 day in the window argument is shown below\n",
    "- Again add *print* to view results"
   ]
  },
  {
   "cell_type": "code",
   "execution_count": 27,
   "metadata": {},
   "outputs": [],
   "source": [
    "# specifically indicating 1 day\n",
    "data_rolled = data.set_index('date').rolling(window='1d').agg([find_no_peaks, find_no_valleys])\n",
    "for row in range(144, 1440, 144):\n",
    "    data_rolled.iloc[[row]]"
   ]
  },
  {
   "cell_type": "code",
   "execution_count": 28,
   "metadata": {},
   "outputs": [
    {
     "data": {
      "text/html": [
       "<div>\n",
       "<style scoped>\n",
       "    .dataframe tbody tr th:only-of-type {\n",
       "        vertical-align: middle;\n",
       "    }\n",
       "\n",
       "    .dataframe tbody tr th {\n",
       "        vertical-align: top;\n",
       "    }\n",
       "\n",
       "    .dataframe thead th {\n",
       "        text-align: right;\n",
       "    }\n",
       "</style>\n",
       "<table border=\"1\" class=\"dataframe\">\n",
       "  <thead>\n",
       "    <tr style=\"text-align: right;\">\n",
       "      <th></th>\n",
       "      <th>Appliances</th>\n",
       "      <th>lights</th>\n",
       "    </tr>\n",
       "    <tr>\n",
       "      <th>date</th>\n",
       "      <th></th>\n",
       "      <th></th>\n",
       "    </tr>\n",
       "  </thead>\n",
       "  <tbody>\n",
       "    <tr>\n",
       "      <th>2016-01-11 17:00:00</th>\n",
       "      <td>NaN</td>\n",
       "      <td>NaN</td>\n",
       "    </tr>\n",
       "    <tr>\n",
       "      <th>2016-01-11 17:10:00</th>\n",
       "      <td>0.000000</td>\n",
       "      <td>0.000000</td>\n",
       "    </tr>\n",
       "    <tr>\n",
       "      <th>2016-01-11 17:20:00</th>\n",
       "      <td>-0.166667</td>\n",
       "      <td>0.000000</td>\n",
       "    </tr>\n",
       "    <tr>\n",
       "      <th>2016-01-11 17:30:00</th>\n",
       "      <td>0.000000</td>\n",
       "      <td>0.333333</td>\n",
       "    </tr>\n",
       "    <tr>\n",
       "      <th>2016-01-11 17:40:00</th>\n",
       "      <td>0.200000</td>\n",
       "      <td>0.000000</td>\n",
       "    </tr>\n",
       "    <tr>\n",
       "      <th>2016-01-11 17:50:00</th>\n",
       "      <td>-0.166667</td>\n",
       "      <td>0.000000</td>\n",
       "    </tr>\n",
       "    <tr>\n",
       "      <th>2016-01-11 18:00:00</th>\n",
       "      <td>0.200000</td>\n",
       "      <td>0.250000</td>\n",
       "    </tr>\n",
       "    <tr>\n",
       "      <th>2016-01-11 18:10:00</th>\n",
       "      <td>0.000000</td>\n",
       "      <td>0.000000</td>\n",
       "    </tr>\n",
       "    <tr>\n",
       "      <th>2016-01-11 18:20:00</th>\n",
       "      <td>0.000000</td>\n",
       "      <td>-0.200000</td>\n",
       "    </tr>\n",
       "    <tr>\n",
       "      <th>2016-01-11 18:30:00</th>\n",
       "      <td>0.166667</td>\n",
       "      <td>0.000000</td>\n",
       "    </tr>\n",
       "  </tbody>\n",
       "</table>\n",
       "</div>"
      ],
      "text/plain": [
       "                     Appliances    lights\n",
       "date                                     \n",
       "2016-01-11 17:00:00         NaN       NaN\n",
       "2016-01-11 17:10:00    0.000000  0.000000\n",
       "2016-01-11 17:20:00   -0.166667  0.000000\n",
       "2016-01-11 17:30:00    0.000000  0.333333\n",
       "2016-01-11 17:40:00    0.200000  0.000000\n",
       "2016-01-11 17:50:00   -0.166667  0.000000\n",
       "2016-01-11 18:00:00    0.200000  0.250000\n",
       "2016-01-11 18:10:00    0.000000  0.000000\n",
       "2016-01-11 18:20:00    0.000000 -0.200000\n",
       "2016-01-11 18:30:00    0.166667  0.000000"
      ]
     },
     "execution_count": 28,
     "metadata": {},
     "output_type": "execute_result"
    }
   ],
   "source": [
    "# determine the percentage change in value between consecutive observations\n",
    "data_rolled = data.set_index('date')[['Appliances', 'lights']].pct_change()\n",
    "\n",
    "data_rolled.head(10)"
   ]
  },
  {
   "cell_type": "markdown",
   "metadata": {},
   "source": [
    "## 10.3 Determining the number of local maxima and minima"
   ]
  },
  {
   "cell_type": "code",
   "execution_count": 29,
   "metadata": {},
   "outputs": [],
   "source": [
    "import numpy as np\n",
    "import pandas as pd\n",
    "import matplotlib.pyplot as plt\n",
    "from scipy.signal import find_peaks"
   ]
  },
  {
   "cell_type": "code",
   "execution_count": 30,
   "metadata": {},
   "outputs": [
    {
     "data": {
      "text/html": [
       "<div>\n",
       "<style scoped>\n",
       "    .dataframe tbody tr th:only-of-type {\n",
       "        vertical-align: middle;\n",
       "    }\n",
       "\n",
       "    .dataframe tbody tr th {\n",
       "        vertical-align: top;\n",
       "    }\n",
       "\n",
       "    .dataframe thead th {\n",
       "        text-align: right;\n",
       "    }\n",
       "</style>\n",
       "<table border=\"1\" class=\"dataframe\">\n",
       "  <thead>\n",
       "    <tr style=\"text-align: right;\">\n",
       "      <th></th>\n",
       "      <th>date</th>\n",
       "      <th>Appliances</th>\n",
       "      <th>lights</th>\n",
       "      <th>T1</th>\n",
       "      <th>RH_1</th>\n",
       "      <th>T2</th>\n",
       "      <th>RH_2</th>\n",
       "      <th>T3</th>\n",
       "      <th>RH_3</th>\n",
       "      <th>T4</th>\n",
       "      <th>...</th>\n",
       "      <th>T9</th>\n",
       "      <th>RH_9</th>\n",
       "      <th>T_out</th>\n",
       "      <th>Press_mm_hg</th>\n",
       "      <th>RH_out</th>\n",
       "      <th>Windspeed</th>\n",
       "      <th>Visibility</th>\n",
       "      <th>Tdewpoint</th>\n",
       "      <th>rv1</th>\n",
       "      <th>rv2</th>\n",
       "    </tr>\n",
       "  </thead>\n",
       "  <tbody>\n",
       "    <tr>\n",
       "      <th>0</th>\n",
       "      <td>2016-01-11 17:00:00</td>\n",
       "      <td>60</td>\n",
       "      <td>30</td>\n",
       "      <td>19.89</td>\n",
       "      <td>47.596667</td>\n",
       "      <td>19.2</td>\n",
       "      <td>44.790000</td>\n",
       "      <td>19.79</td>\n",
       "      <td>44.730000</td>\n",
       "      <td>19.000000</td>\n",
       "      <td>...</td>\n",
       "      <td>17.033333</td>\n",
       "      <td>45.53</td>\n",
       "      <td>6.600000</td>\n",
       "      <td>733.5</td>\n",
       "      <td>92.0</td>\n",
       "      <td>7.000000</td>\n",
       "      <td>63.000000</td>\n",
       "      <td>5.3</td>\n",
       "      <td>13.275433</td>\n",
       "      <td>13.275433</td>\n",
       "    </tr>\n",
       "    <tr>\n",
       "      <th>1</th>\n",
       "      <td>2016-01-11 17:10:00</td>\n",
       "      <td>60</td>\n",
       "      <td>30</td>\n",
       "      <td>19.89</td>\n",
       "      <td>46.693333</td>\n",
       "      <td>19.2</td>\n",
       "      <td>44.722500</td>\n",
       "      <td>19.79</td>\n",
       "      <td>44.790000</td>\n",
       "      <td>19.000000</td>\n",
       "      <td>...</td>\n",
       "      <td>17.066667</td>\n",
       "      <td>45.56</td>\n",
       "      <td>6.483333</td>\n",
       "      <td>733.6</td>\n",
       "      <td>92.0</td>\n",
       "      <td>6.666667</td>\n",
       "      <td>59.166667</td>\n",
       "      <td>5.2</td>\n",
       "      <td>18.606195</td>\n",
       "      <td>18.606195</td>\n",
       "    </tr>\n",
       "    <tr>\n",
       "      <th>2</th>\n",
       "      <td>2016-01-11 17:20:00</td>\n",
       "      <td>50</td>\n",
       "      <td>30</td>\n",
       "      <td>19.89</td>\n",
       "      <td>46.300000</td>\n",
       "      <td>19.2</td>\n",
       "      <td>44.626667</td>\n",
       "      <td>19.79</td>\n",
       "      <td>44.933333</td>\n",
       "      <td>18.926667</td>\n",
       "      <td>...</td>\n",
       "      <td>17.000000</td>\n",
       "      <td>45.50</td>\n",
       "      <td>6.366667</td>\n",
       "      <td>733.7</td>\n",
       "      <td>92.0</td>\n",
       "      <td>6.333333</td>\n",
       "      <td>55.333333</td>\n",
       "      <td>5.1</td>\n",
       "      <td>28.642668</td>\n",
       "      <td>28.642668</td>\n",
       "    </tr>\n",
       "    <tr>\n",
       "      <th>3</th>\n",
       "      <td>2016-01-11 17:30:00</td>\n",
       "      <td>50</td>\n",
       "      <td>40</td>\n",
       "      <td>19.89</td>\n",
       "      <td>46.066667</td>\n",
       "      <td>19.2</td>\n",
       "      <td>44.590000</td>\n",
       "      <td>19.79</td>\n",
       "      <td>45.000000</td>\n",
       "      <td>18.890000</td>\n",
       "      <td>...</td>\n",
       "      <td>17.000000</td>\n",
       "      <td>45.40</td>\n",
       "      <td>6.250000</td>\n",
       "      <td>733.8</td>\n",
       "      <td>92.0</td>\n",
       "      <td>6.000000</td>\n",
       "      <td>51.500000</td>\n",
       "      <td>5.0</td>\n",
       "      <td>45.410389</td>\n",
       "      <td>45.410389</td>\n",
       "    </tr>\n",
       "    <tr>\n",
       "      <th>4</th>\n",
       "      <td>2016-01-11 17:40:00</td>\n",
       "      <td>60</td>\n",
       "      <td>40</td>\n",
       "      <td>19.89</td>\n",
       "      <td>46.333333</td>\n",
       "      <td>19.2</td>\n",
       "      <td>44.530000</td>\n",
       "      <td>19.79</td>\n",
       "      <td>45.000000</td>\n",
       "      <td>18.890000</td>\n",
       "      <td>...</td>\n",
       "      <td>17.000000</td>\n",
       "      <td>45.40</td>\n",
       "      <td>6.133333</td>\n",
       "      <td>733.9</td>\n",
       "      <td>92.0</td>\n",
       "      <td>5.666667</td>\n",
       "      <td>47.666667</td>\n",
       "      <td>4.9</td>\n",
       "      <td>10.084097</td>\n",
       "      <td>10.084097</td>\n",
       "    </tr>\n",
       "  </tbody>\n",
       "</table>\n",
       "<p>5 rows × 29 columns</p>\n",
       "</div>"
      ],
      "text/plain": [
       "                  date  Appliances  lights     T1       RH_1    T2       RH_2  \\\n",
       "0  2016-01-11 17:00:00          60      30  19.89  47.596667  19.2  44.790000   \n",
       "1  2016-01-11 17:10:00          60      30  19.89  46.693333  19.2  44.722500   \n",
       "2  2016-01-11 17:20:00          50      30  19.89  46.300000  19.2  44.626667   \n",
       "3  2016-01-11 17:30:00          50      40  19.89  46.066667  19.2  44.590000   \n",
       "4  2016-01-11 17:40:00          60      40  19.89  46.333333  19.2  44.530000   \n",
       "\n",
       "      T3       RH_3         T4  ...         T9   RH_9     T_out  Press_mm_hg  \\\n",
       "0  19.79  44.730000  19.000000  ...  17.033333  45.53  6.600000        733.5   \n",
       "1  19.79  44.790000  19.000000  ...  17.066667  45.56  6.483333        733.6   \n",
       "2  19.79  44.933333  18.926667  ...  17.000000  45.50  6.366667        733.7   \n",
       "3  19.79  45.000000  18.890000  ...  17.000000  45.40  6.250000        733.8   \n",
       "4  19.79  45.000000  18.890000  ...  17.000000  45.40  6.133333        733.9   \n",
       "\n",
       "   RH_out  Windspeed  Visibility  Tdewpoint        rv1        rv2  \n",
       "0    92.0   7.000000   63.000000        5.3  13.275433  13.275433  \n",
       "1    92.0   6.666667   59.166667        5.2  18.606195  18.606195  \n",
       "2    92.0   6.333333   55.333333        5.1  28.642668  28.642668  \n",
       "3    92.0   6.000000   51.500000        5.0  45.410389  45.410389  \n",
       "4    92.0   5.666667   47.666667        4.9  10.084097  10.084097  \n",
       "\n",
       "[5 rows x 29 columns]"
      ]
     },
     "execution_count": 30,
     "metadata": {},
     "output_type": "execute_result"
    }
   ],
   "source": [
    "# load the appliances energy prediction data set\n",
    "data = pd.read_csv('data/energydata.csv')\n",
    "data.head()"
   ]
  },
  {
   "cell_type": "code",
   "execution_count": 31,
   "metadata": {},
   "outputs": [
    {
     "data": {
      "text/plain": [
       "min    2016-01-11 17:00:00\n",
       "max    2016-05-27 18:00:00\n",
       "Name: date, dtype: object"
      ]
     },
     "execution_count": 31,
     "metadata": {},
     "output_type": "execute_result"
    }
   ],
   "source": [
    "# check maximun and minimum dates\n",
    "data['date'].agg(['min', 'max'])"
   ]
  },
  {
   "cell_type": "code",
   "execution_count": 32,
   "metadata": {},
   "outputs": [
    {
     "data": {
      "text/plain": [
       "dtype('O')"
      ]
     },
     "execution_count": 32,
     "metadata": {},
     "output_type": "execute_result"
    }
   ],
   "source": [
    "# check the data type of the date variable\n",
    "data['date'].dtypes"
   ]
  },
  {
   "cell_type": "code",
   "execution_count": 33,
   "metadata": {},
   "outputs": [
    {
     "data": {
      "text/html": [
       "<div>\n",
       "<style scoped>\n",
       "    .dataframe tbody tr th:only-of-type {\n",
       "        vertical-align: middle;\n",
       "    }\n",
       "\n",
       "    .dataframe tbody tr th {\n",
       "        vertical-align: top;\n",
       "    }\n",
       "\n",
       "    .dataframe thead th {\n",
       "        text-align: right;\n",
       "    }\n",
       "</style>\n",
       "<table border=\"1\" class=\"dataframe\">\n",
       "  <thead>\n",
       "    <tr style=\"text-align: right;\">\n",
       "      <th></th>\n",
       "      <th>date</th>\n",
       "      <th>Appliances</th>\n",
       "      <th>lights</th>\n",
       "      <th>day</th>\n",
       "      <th>month</th>\n",
       "      <th>hr</th>\n",
       "    </tr>\n",
       "  </thead>\n",
       "  <tbody>\n",
       "    <tr>\n",
       "      <th>0</th>\n",
       "      <td>2016-01-11 17:00:00</td>\n",
       "      <td>60</td>\n",
       "      <td>30</td>\n",
       "      <td>11</td>\n",
       "      <td>1</td>\n",
       "      <td>17</td>\n",
       "    </tr>\n",
       "    <tr>\n",
       "      <th>1</th>\n",
       "      <td>2016-01-11 17:10:00</td>\n",
       "      <td>60</td>\n",
       "      <td>30</td>\n",
       "      <td>11</td>\n",
       "      <td>1</td>\n",
       "      <td>17</td>\n",
       "    </tr>\n",
       "    <tr>\n",
       "      <th>2</th>\n",
       "      <td>2016-01-11 17:20:00</td>\n",
       "      <td>50</td>\n",
       "      <td>30</td>\n",
       "      <td>11</td>\n",
       "      <td>1</td>\n",
       "      <td>17</td>\n",
       "    </tr>\n",
       "    <tr>\n",
       "      <th>3</th>\n",
       "      <td>2016-01-11 17:30:00</td>\n",
       "      <td>50</td>\n",
       "      <td>40</td>\n",
       "      <td>11</td>\n",
       "      <td>1</td>\n",
       "      <td>17</td>\n",
       "    </tr>\n",
       "    <tr>\n",
       "      <th>4</th>\n",
       "      <td>2016-01-11 17:40:00</td>\n",
       "      <td>60</td>\n",
       "      <td>40</td>\n",
       "      <td>11</td>\n",
       "      <td>1</td>\n",
       "      <td>17</td>\n",
       "    </tr>\n",
       "  </tbody>\n",
       "</table>\n",
       "</div>"
      ],
      "text/plain": [
       "                 date  Appliances  lights  day  month  hr\n",
       "0 2016-01-11 17:00:00          60      30   11      1  17\n",
       "1 2016-01-11 17:10:00          60      30   11      1  17\n",
       "2 2016-01-11 17:20:00          50      30   11      1  17\n",
       "3 2016-01-11 17:30:00          50      40   11      1  17\n",
       "4 2016-01-11 17:40:00          60      40   11      1  17"
      ]
     },
     "execution_count": 33,
     "metadata": {},
     "output_type": "execute_result"
    }
   ],
   "source": [
    "# extract datetime derived features\n",
    "# parse as datetime data type\n",
    "data['date'] = pd.to_datetime(data['date'])\n",
    "\n",
    "# new feature names\n",
    "cols = ['day', 'month', 'hr']\n",
    "\n",
    "# create the date and time features\n",
    "data[cols] = pd.DataFrame([(x.day, x.month, x.hour) for x in data['date']])\n",
    "\n",
    "data[['date', 'Appliances', 'lights'] + cols].head()"
   ]
  },
  {
   "cell_type": "code",
   "execution_count": 34,
   "metadata": {},
   "outputs": [
    {
     "data": {
      "text/plain": [
       "array([1, 2, 3, 4, 5], dtype=int64)"
      ]
     },
     "execution_count": 34,
     "metadata": {},
     "output_type": "execute_result"
    }
   ],
   "source": [
    "# inspect month\n",
    "data['month'].unique()"
   ]
  },
  {
   "cell_type": "code",
   "execution_count": 35,
   "metadata": {},
   "outputs": [
    {
     "data": {
      "text/plain": [
       "Text(0.5, 1.0, 'Daily Cycle of Energy Consumption by Appliances')"
      ]
     },
     "execution_count": 35,
     "metadata": {},
     "output_type": "execute_result"
    },
    {
     "data": {
      "image/png": "[encoded data removed]",
      "text/plain": [
       "<Figure size 432x288 with 1 Axes>"
      ]
     },
     "metadata": {
      "needs_background": "light"
     },
     "output_type": "display_data"
    }
   ],
   "source": [
    "# make the datetime variable the index of the series\n",
    "data.index = data['date']\n",
    "\n",
    "# Explore mean energy consumption by appliances\n",
    "# per hr of the day throughout the 5 months\n",
    "data.groupby('hr')['Appliances'].mean().plot()\n",
    "plt.ylabel('Energy in Kh')\n",
    "plt.title('Daily Cycle of Energy Consumption by Appliances')"
   ]
  },
  {
   "cell_type": "markdown",
   "metadata": {},
   "source": [
    "During the night, where there is no human activity, there is a baseline energy consumption of about less than 60 Wh. We will use that value later on as the minimum value for the peaks."
   ]
  },
  {
   "cell_type": "code",
   "execution_count": 36,
   "metadata": {},
   "outputs": [
    {
     "data": {
      "text/plain": [
       "Text(0.5, 1.0, 'Mean daily Energy Consumption')"
      ]
     },
     "execution_count": 36,
     "metadata": {},
     "output_type": "execute_result"
    },
    {
     "data": {
      "image/png": "[encoded data removed]",
      "text/plain": [
       "<Figure size 864x288 with 1 Axes>"
      ]
     },
     "metadata": {
      "needs_background": "light"
     },
     "output_type": "display_data"
    }
   ],
   "source": [
    "# Plot mean energy consumption by appliances per day throughout the 5 months\n",
    "data.groupby(['month', 'day'])['Appliances'].mean().plot(figsize=(12, 4))\n",
    "plt.ylabel('Energy in Kh')\n",
    "plt.title('Mean daily Energy Consumption')"
   ]
  },
  {
   "cell_type": "markdown",
   "metadata": {},
   "source": [
    "#### Determining local maxima\n",
    "- Create a Pandas series with the mean energy consumed by appliances per day throughout the 5 months\n",
    "- Determine the days of peak electricity consumption throughout the 5 months\n",
    "    - that is, find the peaks (local maxima)\n",
    "    - *find_peaks* returns an array with the location of the maxima in the Pandas series\n",
    "- Plot the peaks\n",
    "    - plot the time series with the mean energy consumed per day\n",
    "    - Overlay on top of the time series a series of red dots, at the location of the local maxima, using the peak variable for the x coordinate and the value of the peak for the y coordinate\n",
    "    - add a line at the baseline electricity consumption of 60 Kh\n",
    "    - display the plot"
   ]
  },
  {
   "cell_type": "code",
   "execution_count": 37,
   "metadata": {},
   "outputs": [
    {
     "data": {
      "image/png": "[encoded data removed]",
      "text/plain": [
       "<Figure size 864x288 with 1 Axes>"
      ]
     },
     "metadata": {
      "needs_background": "light"
     },
     "output_type": "display_data"
    }
   ],
   "source": [
    "daily_ec = data.groupby(['month', 'day'])['Appliances'].mean()\n",
    "\n",
    "peaks, _ = find_peaks(daily_ec, height=60)\n",
    "\n",
    "plt.figure(figsize=(12, 4))\n",
    "daily_ec.plot()\n",
    "plt.plot(peaks, daily_ec.values[peaks], \"o\", color='red')\n",
    "plt.plot(np.full_like(daily_ec, 60), \"--\", color=\"gray\")\n",
    "plt.show()"
   ]
  },
  {
   "cell_type": "code",
   "execution_count": 38,
   "metadata": {},
   "outputs": [
    {
     "data": {
      "text/plain": [
       "array([  3,   6,   9,  13,  15,  19,  21,  23,  26,  28,  32,  35,  39,\n",
       "        42,  45,  49,  51,  53,  56,  59,  61,  63,  65,  68,  72,  74,\n",
       "        77,  84,  88,  92,  96, 100, 102, 110, 116, 119, 121, 123, 125,\n",
       "       128, 131, 134, 136], dtype=int64)"
      ]
     },
     "execution_count": 38,
     "metadata": {},
     "output_type": "execute_result"
    }
   ],
   "source": [
    "# peaks contains the indeces of days of max electricity consumption\n",
    "peaks"
   ]
  },
  {
   "cell_type": "markdown",
   "metadata": {},
   "source": [
    "#### Determining local minima\n",
    "- Determine the days of minimum electricity consumption throughout the 5 months\n",
    "    - that is, the local minima\n",
    "    - We use the same function, find_peaks, which means that we need to turn the time series upside-dowm, which we do with the reciprocal function\n",
    "- Plot the local minima\n",
    "    - plot the time series with the mean energy consumed per day\n",
    "    - overlay on top of the time series a series of green dots, at the location of the local minima, using the valleys variable for the x coordinate and the value of the local minima for the y coordinate\n",
    "    - add a line at the baseline electricity consumption\n",
    "    - display plot"
   ]
  },
  {
   "cell_type": "code",
   "execution_count": 39,
   "metadata": {},
   "outputs": [
    {
     "data": {
      "image/png": "[encoded data removed]",
      "text/plain": [
       "<Figure size 864x288 with 1 Axes>"
      ]
     },
     "metadata": {
      "needs_background": "light"
     },
     "output_type": "display_data"
    }
   ],
   "source": [
    "valleys, _ = find_peaks(1 / daily_ec, height=(0, 1/60))\n",
    "\n",
    "plt.figure(figsize=(12, 4))\n",
    "daily_ec.plot()\n",
    "plt.plot(valleys, daily_ec.values[valleys], \"o\", color='green')\n",
    "plt.plot(np.full_like(daily_ec, 60), \"--\", color=\"gray\")\n",
    "plt.show()"
   ]
  },
  {
   "cell_type": "markdown",
   "metadata": {},
   "source": [
    "#### Plotting local minima and maxima together"
   ]
  },
  {
   "cell_type": "code",
   "execution_count": 40,
   "metadata": {},
   "outputs": [
    {
     "data": {
      "image/png": "[encoded data removed]",
      "text/plain": [
       "<Figure size 864x288 with 1 Axes>"
      ]
     },
     "metadata": {
      "needs_background": "light"
     },
     "output_type": "display_data"
    }
   ],
   "source": [
    "peaks, _ = find_peaks(daily_ec, height=60)\n",
    "valleys, _ = find_peaks(1 / daily_ec, height=(0, 1/60))\n",
    "\n",
    "plt.figure(figsize=(12, 4))\n",
    "daily_ec.plot()\n",
    "plt.plot(peaks, daily_ec.values[peaks], \"o\", color='red')\n",
    "plt.plot(valleys, daily_ec.values[valleys], \"o\", color='green')\n",
    "plt.plot(np.full_like(daily_ec, 60), \"--\", color=\"gray\")\n",
    "plt.show()"
   ]
  },
  {
   "cell_type": "markdown",
   "metadata": {},
   "source": [
    "#### There is more...\n",
    "- In this section, we identified the local maxima and minima in a time series for a single household. \n",
    "- But how could we determine the local maxima and minima for several houses?\n",
    "- We can combine the use of Pandas groupby(), Pandas agg(), and user-defined functions to achieve this goal. \n",
    "- To demonstrate how to do this, we will use the mock customer transactions dataset from Featuretools"
   ]
  },
  {
   "cell_type": "code",
   "execution_count": 41,
   "metadata": {},
   "outputs": [
    {
     "data": {
      "text/html": [
       "<div>\n",
       "<style scoped>\n",
       "    .dataframe tbody tr th:only-of-type {\n",
       "        vertical-align: middle;\n",
       "    }\n",
       "\n",
       "    .dataframe tbody tr th {\n",
       "        vertical-align: top;\n",
       "    }\n",
       "\n",
       "    .dataframe thead th {\n",
       "        text-align: right;\n",
       "    }\n",
       "</style>\n",
       "<table border=\"1\" class=\"dataframe\">\n",
       "  <thead>\n",
       "    <tr style=\"text-align: right;\">\n",
       "      <th></th>\n",
       "      <th>customer_id</th>\n",
       "      <th>transaction_id</th>\n",
       "      <th>transaction_time</th>\n",
       "      <th>amount</th>\n",
       "    </tr>\n",
       "  </thead>\n",
       "  <tbody>\n",
       "    <tr>\n",
       "      <th>0</th>\n",
       "      <td>2</td>\n",
       "      <td>298</td>\n",
       "      <td>2014-01-01 00:00:00</td>\n",
       "      <td>127.64</td>\n",
       "    </tr>\n",
       "    <tr>\n",
       "      <th>1</th>\n",
       "      <td>2</td>\n",
       "      <td>2</td>\n",
       "      <td>2014-01-01 00:01:05</td>\n",
       "      <td>109.48</td>\n",
       "    </tr>\n",
       "    <tr>\n",
       "      <th>2</th>\n",
       "      <td>2</td>\n",
       "      <td>308</td>\n",
       "      <td>2014-01-01 00:02:10</td>\n",
       "      <td>95.06</td>\n",
       "    </tr>\n",
       "    <tr>\n",
       "      <th>3</th>\n",
       "      <td>2</td>\n",
       "      <td>116</td>\n",
       "      <td>2014-01-01 00:03:15</td>\n",
       "      <td>78.92</td>\n",
       "    </tr>\n",
       "    <tr>\n",
       "      <th>4</th>\n",
       "      <td>2</td>\n",
       "      <td>371</td>\n",
       "      <td>2014-01-01 00:04:20</td>\n",
       "      <td>31.54</td>\n",
       "    </tr>\n",
       "  </tbody>\n",
       "</table>\n",
       "</div>"
      ],
      "text/plain": [
       "   customer_id  transaction_id    transaction_time  amount\n",
       "0            2             298 2014-01-01 00:00:00  127.64\n",
       "1            2               2 2014-01-01 00:01:05  109.48\n",
       "2            2             308 2014-01-01 00:02:10   95.06\n",
       "3            2             116 2014-01-01 00:03:15   78.92\n",
       "4            2             371 2014-01-01 00:04:20   31.54"
      ]
     },
     "execution_count": 41,
     "metadata": {},
     "output_type": "execute_result"
    }
   ],
   "source": [
    "import featuretools as ft\n",
    "\n",
    "# load the example data set\n",
    "data_dict = ft.demo.load_mock_customer()\n",
    "data = data_dict[\"transactions\"].merge(\n",
    "    data_dict[\"sessions\"]).merge(data_dict[\"customers\"])\n",
    "cols = ['customer_id', 'transaction_id', 'transaction_time', 'amount']\n",
    "data = data[cols]\n",
    "data.head()"
   ]
  },
  {
   "cell_type": "code",
   "execution_count": 42,
   "metadata": {},
   "outputs": [
    {
     "data": {
      "text/plain": [
       "min   2014-01-01 00:00:00\n",
       "max   2014-01-01 09:00:35\n",
       "Name: transaction_time, dtype: datetime64[ns]"
      ]
     },
     "execution_count": 42,
     "metadata": {},
     "output_type": "execute_result"
    }
   ],
   "source": [
    "data['transaction_time'].agg(['min', 'max'])"
   ]
  },
  {
   "cell_type": "code",
   "execution_count": 43,
   "metadata": {},
   "outputs": [
    {
     "data": {
      "text/plain": [
       "dtype('<M8[ns]')"
      ]
     },
     "execution_count": 43,
     "metadata": {},
     "output_type": "execute_result"
    }
   ],
   "source": [
    "data['transaction_time'].dtypes"
   ]
  },
  {
   "cell_type": "code",
   "execution_count": 44,
   "metadata": {},
   "outputs": [
    {
     "data": {
      "text/html": [
       "<div>\n",
       "<style scoped>\n",
       "    .dataframe tbody tr th:only-of-type {\n",
       "        vertical-align: middle;\n",
       "    }\n",
       "\n",
       "    .dataframe tbody tr th {\n",
       "        vertical-align: top;\n",
       "    }\n",
       "\n",
       "    .dataframe thead th {\n",
       "        text-align: right;\n",
       "    }\n",
       "</style>\n",
       "<table border=\"1\" class=\"dataframe\">\n",
       "  <thead>\n",
       "    <tr style=\"text-align: right;\">\n",
       "      <th></th>\n",
       "      <th>customer_id</th>\n",
       "      <th>transaction_id</th>\n",
       "      <th>transaction_time</th>\n",
       "      <th>amount</th>\n",
       "      <th>hr</th>\n",
       "    </tr>\n",
       "  </thead>\n",
       "  <tbody>\n",
       "    <tr>\n",
       "      <th>0</th>\n",
       "      <td>2</td>\n",
       "      <td>298</td>\n",
       "      <td>2014-01-01 00:00:00</td>\n",
       "      <td>127.64</td>\n",
       "      <td>0</td>\n",
       "    </tr>\n",
       "    <tr>\n",
       "      <th>1</th>\n",
       "      <td>2</td>\n",
       "      <td>2</td>\n",
       "      <td>2014-01-01 00:01:05</td>\n",
       "      <td>109.48</td>\n",
       "      <td>0</td>\n",
       "    </tr>\n",
       "    <tr>\n",
       "      <th>2</th>\n",
       "      <td>2</td>\n",
       "      <td>308</td>\n",
       "      <td>2014-01-01 00:02:10</td>\n",
       "      <td>95.06</td>\n",
       "      <td>0</td>\n",
       "    </tr>\n",
       "    <tr>\n",
       "      <th>3</th>\n",
       "      <td>2</td>\n",
       "      <td>116</td>\n",
       "      <td>2014-01-01 00:03:15</td>\n",
       "      <td>78.92</td>\n",
       "      <td>0</td>\n",
       "    </tr>\n",
       "    <tr>\n",
       "      <th>4</th>\n",
       "      <td>2</td>\n",
       "      <td>371</td>\n",
       "      <td>2014-01-01 00:04:20</td>\n",
       "      <td>31.54</td>\n",
       "      <td>0</td>\n",
       "    </tr>\n",
       "  </tbody>\n",
       "</table>\n",
       "</div>"
      ],
      "text/plain": [
       "   customer_id  transaction_id    transaction_time  amount  hr\n",
       "0            2             298 2014-01-01 00:00:00  127.64   0\n",
       "1            2               2 2014-01-01 00:01:05  109.48   0\n",
       "2            2             308 2014-01-01 00:02:10   95.06   0\n",
       "3            2             116 2014-01-01 00:03:15   78.92   0\n",
       "4            2             371 2014-01-01 00:04:20   31.54   0"
      ]
     },
     "execution_count": 44,
     "metadata": {},
     "output_type": "execute_result"
    }
   ],
   "source": [
    "# let's create a feature with the hour of the transaction\n",
    "data['hr'] = data['transaction_time'].dt.hour\n",
    "data.head()"
   ]
  },
  {
   "cell_type": "code",
   "execution_count": 45,
   "metadata": {},
   "outputs": [
    {
     "data": {
      "image/png": "[encoded data removed]",
      "text/plain": [
       "<Figure size 432x288 with 1 Axes>"
      ]
     },
     "metadata": {
      "needs_background": "light"
     },
     "output_type": "display_data"
    },
    {
     "data": {
      "image/png": "[encoded data removed]",
      "text/plain": [
       "<Figure size 432x288 with 1 Axes>"
      ]
     },
     "metadata": {
      "needs_background": "light"
     },
     "output_type": "display_data"
    },
    {
     "data": {
      "image/png": "[encoded data removed]",
      "text/plain": [
       "<Figure size 432x288 with 1 Axes>"
      ]
     },
     "metadata": {
      "needs_background": "light"
     },
     "output_type": "display_data"
    },
    {
     "data": {
      "image/png": "[encoded data removed]",
      "text/plain": [
       "<Figure size 432x288 with 1 Axes>"
      ]
     },
     "metadata": {
      "needs_background": "light"
     },
     "output_type": "display_data"
    },
    {
     "data": {
      "image/png": "[encoded data removed]",
      "text/plain": [
       "<Figure size 432x288 with 1 Axes>"
      ]
     },
     "metadata": {
      "needs_background": "light"
     },
     "output_type": "display_data"
    }
   ],
   "source": [
    "# plot the amount per transaction ==> one plot per customer\n",
    "for customer in data['customer_id'].unique():\n",
    "\n",
    "    # make a small df with one customer\n",
    "    tmp = data[data['customer_id'] == customer]\n",
    "\n",
    "    # add the transaction time as index\n",
    "    tmp.index = tmp['transaction_time']\n",
    "\n",
    "    # plot the amount spent in time\n",
    "    tmp['amount'].plot()\n",
    "    plt.show()"
   ]
  },
  {
   "cell_type": "markdown",
   "metadata": {},
   "source": [
    "- Let's create a function that finds a plots the local maxima of a customer amount spent per transaction time series \n",
    "    - x is a Pandas Series\n",
    "    - find local maxima\n",
    "    - plot the peaks\n",
    "- Now let's plot the local maxima for the time series with the mean amount spent per hour ==> one plot per customer\n",
    "    - this part is intended to get the reader familiar with the data and therefore facilitate the understanding of the code\n",
    "    - create a small df with a single customer data\n",
    "    - aggregate the mean amount spent per hr\n",
    "    - find and plot the local maxima"
   ]
  },
  {
   "cell_type": "code",
   "execution_count": 46,
   "metadata": {},
   "outputs": [
    {
     "data": {
      "image/png": "[encoded data removed]",
      "text/plain": [
       "<Figure size 288x216 with 1 Axes>"
      ]
     },
     "metadata": {
      "needs_background": "light"
     },
     "output_type": "display_data"
    },
    {
     "data": {
      "image/png": "[encoded data removed]",
      "text/plain": [
       "<Figure size 288x216 with 1 Axes>"
      ]
     },
     "metadata": {
      "needs_background": "light"
     },
     "output_type": "display_data"
    },
    {
     "data": {
      "image/png": "[encoded data removed]",
      "text/plain": [
       "<Figure size 288x216 with 1 Axes>"
      ]
     },
     "metadata": {
      "needs_background": "light"
     },
     "output_type": "display_data"
    },
    {
     "data": {
      "image/png": "[encoded data removed]",
      "text/plain": [
       "<Figure size 288x216 with 1 Axes>"
      ]
     },
     "metadata": {
      "needs_background": "light"
     },
     "output_type": "display_data"
    },
    {
     "data": {
      "image/png": "[encoded data removed]",
      "text/plain": [
       "<Figure size 288x216 with 1 Axes>"
      ]
     },
     "metadata": {
      "needs_background": "light"
     },
     "output_type": "display_data"
    }
   ],
   "source": [
    "def find_and_plot_peaks(x, customer):\n",
    "    peaks, _ = find_peaks(x)\n",
    "    plt.figure(figsize=(4, 3))\n",
    "    plt.plot(x.values)\n",
    "    plt.plot(peaks, x.values[peaks], \"x\")\n",
    "    plt.title('Customer number {}'.format(customer))\n",
    "    plt.show()\n",
    "    \n",
    "for customer in data['customer_id'].unique():\n",
    "    tmp = data[data['customer_id']==customer]\n",
    "    tmp = tmp.groupby('hr')['amount'].mean()\n",
    "    pd.DataFrame(tmp).reset_index(inplace=True, drop=False)\n",
    "    find_and_plot_peaks(tmp, customer)"
   ]
  },
  {
   "cell_type": "code",
   "execution_count": 47,
   "metadata": {},
   "outputs": [
    {
     "data": {
      "text/plain": [
       "hr\n",
       "1     62.791333\n",
       "4     55.579412\n",
       "5     81.747500\n",
       "6     62.019333\n",
       "8     69.403939\n",
       "9    148.310000\n",
       "Name: amount, dtype: float64"
      ]
     },
     "execution_count": 47,
     "metadata": {},
     "output_type": "execute_result"
    }
   ],
   "source": [
    "# create functions that take a time series and return number of local maxima or local minima\n",
    "def find_no_peaks(x):\n",
    "    peaks, _ = find_peaks(x)\n",
    "    return len(peaks)\n",
    "\n",
    "def find_no_valleys(x):\n",
    "    valleys, _ = find_peaks(1/x)\n",
    "    return len(valleys)\n",
    "\n",
    "# select a single customer data to test function\n",
    "tmp = data[data['customer_id'] == 3]\n",
    "tmp = tmp.groupby('hr')['amount'].mean()\n",
    "tmp"
   ]
  },
  {
   "cell_type": "code",
   "execution_count": 48,
   "metadata": {},
   "outputs": [
    {
     "data": {
      "text/plain": [
       "1"
      ]
     },
     "execution_count": 48,
     "metadata": {},
     "output_type": "execute_result"
    }
   ],
   "source": [
    "# test local maxima function\n",
    "find_no_peaks(tmp)"
   ]
  },
  {
   "cell_type": "code",
   "execution_count": 49,
   "metadata": {},
   "outputs": [
    {
     "data": {
      "text/plain": [
       "2"
      ]
     },
     "execution_count": 49,
     "metadata": {},
     "output_type": "execute_result"
    }
   ],
   "source": [
    "# test local minima function\n",
    "find_no_valleys(tmp)"
   ]
  },
  {
   "cell_type": "code",
   "execution_count": 50,
   "metadata": {},
   "outputs": [
    {
     "data": {
      "text/plain": [
       "customer_id\n",
       "1    2\n",
       "2    1\n",
       "3    1\n",
       "4    1\n",
       "5    1\n",
       "Name: amount, dtype: int64"
      ]
     },
     "execution_count": 50,
     "metadata": {},
     "output_type": "execute_result"
    }
   ],
   "source": [
    "# find number of local maxima in all customers\n",
    "data.groupby(['customer_id', 'hr'])['amount'].mean().groupby(\n",
    "    'customer_id').apply(find_no_peaks)"
   ]
  },
  {
   "cell_type": "code",
   "execution_count": 51,
   "metadata": {},
   "outputs": [
    {
     "data": {
      "text/html": [
       "<div>\n",
       "<style scoped>\n",
       "    .dataframe tbody tr th:only-of-type {\n",
       "        vertical-align: middle;\n",
       "    }\n",
       "\n",
       "    .dataframe tbody tr th {\n",
       "        vertical-align: top;\n",
       "    }\n",
       "\n",
       "    .dataframe thead th {\n",
       "        text-align: right;\n",
       "    }\n",
       "</style>\n",
       "<table border=\"1\" class=\"dataframe\">\n",
       "  <thead>\n",
       "    <tr style=\"text-align: right;\">\n",
       "      <th></th>\n",
       "      <th>find_no_peaks</th>\n",
       "      <th>find_no_valleys</th>\n",
       "    </tr>\n",
       "    <tr>\n",
       "      <th>customer_id</th>\n",
       "      <th></th>\n",
       "      <th></th>\n",
       "    </tr>\n",
       "  </thead>\n",
       "  <tbody>\n",
       "    <tr>\n",
       "      <th>1</th>\n",
       "      <td>2.0</td>\n",
       "      <td>2.0</td>\n",
       "    </tr>\n",
       "    <tr>\n",
       "      <th>2</th>\n",
       "      <td>1.0</td>\n",
       "      <td>0.0</td>\n",
       "    </tr>\n",
       "    <tr>\n",
       "      <th>3</th>\n",
       "      <td>1.0</td>\n",
       "      <td>2.0</td>\n",
       "    </tr>\n",
       "    <tr>\n",
       "      <th>4</th>\n",
       "      <td>1.0</td>\n",
       "      <td>2.0</td>\n",
       "    </tr>\n",
       "    <tr>\n",
       "      <th>5</th>\n",
       "      <td>1.0</td>\n",
       "      <td>1.0</td>\n",
       "    </tr>\n",
       "  </tbody>\n",
       "</table>\n",
       "</div>"
      ],
      "text/plain": [
       "             find_no_peaks  find_no_valleys\n",
       "customer_id                                \n",
       "1                      2.0              2.0\n",
       "2                      1.0              0.0\n",
       "3                      1.0              2.0\n",
       "4                      1.0              2.0\n",
       "5                      1.0              1.0"
      ]
     },
     "execution_count": 51,
     "metadata": {},
     "output_type": "execute_result"
    }
   ],
   "source": [
    "# find both local maxima and minima in all customers\n",
    "data.groupby(['customer_id', 'hr'])['amount'].mean().groupby(\n",
    "    'customer_id').agg([find_no_peaks, find_no_valleys])"
   ]
  },
  {
   "cell_type": "markdown",
   "metadata": {},
   "source": [
    "## 10.4 Deriving time elapsed between time-stamped events"
   ]
  },
  {
   "cell_type": "markdown",
   "metadata": {},
   "source": [
    "- In the previous sections, we performed mathematical operations over the values of the time series to obtain new features that summarize information about the variable, such as the mean and maximum values or the cumulative sum. \n",
    "- It is also possible to perform these mathematical operations over the time-stamp and obtain information about the time between transactions or the time between specific events.\n",
    "- In this section, we will calculate the time between transactions, that is, the time between successive records of the variable values. \n",
    "- Then, we will determine the time between specific events, such as the time between peaks of energy consumption, to demonstrate the power of Pandas when it comes to aggregating time series data."
   ]
  },
  {
   "cell_type": "code",
   "execution_count": 52,
   "metadata": {},
   "outputs": [],
   "source": [
    "import numpy as np\n",
    "import pandas as pd\n",
    "import matplotlib.pyplot as plt\n",
    "from scipy.signal import find_peaks"
   ]
  },
  {
   "cell_type": "code",
   "execution_count": 53,
   "metadata": {},
   "outputs": [
    {
     "data": {
      "text/html": [
       "<div>\n",
       "<style scoped>\n",
       "    .dataframe tbody tr th:only-of-type {\n",
       "        vertical-align: middle;\n",
       "    }\n",
       "\n",
       "    .dataframe tbody tr th {\n",
       "        vertical-align: top;\n",
       "    }\n",
       "\n",
       "    .dataframe thead th {\n",
       "        text-align: right;\n",
       "    }\n",
       "</style>\n",
       "<table border=\"1\" class=\"dataframe\">\n",
       "  <thead>\n",
       "    <tr style=\"text-align: right;\">\n",
       "      <th></th>\n",
       "      <th>date</th>\n",
       "      <th>Appliances</th>\n",
       "      <th>lights</th>\n",
       "      <th>T1</th>\n",
       "      <th>RH_1</th>\n",
       "      <th>T2</th>\n",
       "      <th>RH_2</th>\n",
       "      <th>T3</th>\n",
       "      <th>RH_3</th>\n",
       "      <th>T4</th>\n",
       "      <th>...</th>\n",
       "      <th>T9</th>\n",
       "      <th>RH_9</th>\n",
       "      <th>T_out</th>\n",
       "      <th>Press_mm_hg</th>\n",
       "      <th>RH_out</th>\n",
       "      <th>Windspeed</th>\n",
       "      <th>Visibility</th>\n",
       "      <th>Tdewpoint</th>\n",
       "      <th>rv1</th>\n",
       "      <th>rv2</th>\n",
       "    </tr>\n",
       "  </thead>\n",
       "  <tbody>\n",
       "    <tr>\n",
       "      <th>0</th>\n",
       "      <td>2016-01-11 17:00:00</td>\n",
       "      <td>60</td>\n",
       "      <td>30</td>\n",
       "      <td>19.89</td>\n",
       "      <td>47.596667</td>\n",
       "      <td>19.2</td>\n",
       "      <td>44.790000</td>\n",
       "      <td>19.79</td>\n",
       "      <td>44.730000</td>\n",
       "      <td>19.000000</td>\n",
       "      <td>...</td>\n",
       "      <td>17.033333</td>\n",
       "      <td>45.53</td>\n",
       "      <td>6.600000</td>\n",
       "      <td>733.5</td>\n",
       "      <td>92.0</td>\n",
       "      <td>7.000000</td>\n",
       "      <td>63.000000</td>\n",
       "      <td>5.3</td>\n",
       "      <td>13.275433</td>\n",
       "      <td>13.275433</td>\n",
       "    </tr>\n",
       "    <tr>\n",
       "      <th>1</th>\n",
       "      <td>2016-01-11 17:10:00</td>\n",
       "      <td>60</td>\n",
       "      <td>30</td>\n",
       "      <td>19.89</td>\n",
       "      <td>46.693333</td>\n",
       "      <td>19.2</td>\n",
       "      <td>44.722500</td>\n",
       "      <td>19.79</td>\n",
       "      <td>44.790000</td>\n",
       "      <td>19.000000</td>\n",
       "      <td>...</td>\n",
       "      <td>17.066667</td>\n",
       "      <td>45.56</td>\n",
       "      <td>6.483333</td>\n",
       "      <td>733.6</td>\n",
       "      <td>92.0</td>\n",
       "      <td>6.666667</td>\n",
       "      <td>59.166667</td>\n",
       "      <td>5.2</td>\n",
       "      <td>18.606195</td>\n",
       "      <td>18.606195</td>\n",
       "    </tr>\n",
       "    <tr>\n",
       "      <th>2</th>\n",
       "      <td>2016-01-11 17:20:00</td>\n",
       "      <td>50</td>\n",
       "      <td>30</td>\n",
       "      <td>19.89</td>\n",
       "      <td>46.300000</td>\n",
       "      <td>19.2</td>\n",
       "      <td>44.626667</td>\n",
       "      <td>19.79</td>\n",
       "      <td>44.933333</td>\n",
       "      <td>18.926667</td>\n",
       "      <td>...</td>\n",
       "      <td>17.000000</td>\n",
       "      <td>45.50</td>\n",
       "      <td>6.366667</td>\n",
       "      <td>733.7</td>\n",
       "      <td>92.0</td>\n",
       "      <td>6.333333</td>\n",
       "      <td>55.333333</td>\n",
       "      <td>5.1</td>\n",
       "      <td>28.642668</td>\n",
       "      <td>28.642668</td>\n",
       "    </tr>\n",
       "    <tr>\n",
       "      <th>3</th>\n",
       "      <td>2016-01-11 17:30:00</td>\n",
       "      <td>50</td>\n",
       "      <td>40</td>\n",
       "      <td>19.89</td>\n",
       "      <td>46.066667</td>\n",
       "      <td>19.2</td>\n",
       "      <td>44.590000</td>\n",
       "      <td>19.79</td>\n",
       "      <td>45.000000</td>\n",
       "      <td>18.890000</td>\n",
       "      <td>...</td>\n",
       "      <td>17.000000</td>\n",
       "      <td>45.40</td>\n",
       "      <td>6.250000</td>\n",
       "      <td>733.8</td>\n",
       "      <td>92.0</td>\n",
       "      <td>6.000000</td>\n",
       "      <td>51.500000</td>\n",
       "      <td>5.0</td>\n",
       "      <td>45.410389</td>\n",
       "      <td>45.410389</td>\n",
       "    </tr>\n",
       "    <tr>\n",
       "      <th>4</th>\n",
       "      <td>2016-01-11 17:40:00</td>\n",
       "      <td>60</td>\n",
       "      <td>40</td>\n",
       "      <td>19.89</td>\n",
       "      <td>46.333333</td>\n",
       "      <td>19.2</td>\n",
       "      <td>44.530000</td>\n",
       "      <td>19.79</td>\n",
       "      <td>45.000000</td>\n",
       "      <td>18.890000</td>\n",
       "      <td>...</td>\n",
       "      <td>17.000000</td>\n",
       "      <td>45.40</td>\n",
       "      <td>6.133333</td>\n",
       "      <td>733.9</td>\n",
       "      <td>92.0</td>\n",
       "      <td>5.666667</td>\n",
       "      <td>47.666667</td>\n",
       "      <td>4.9</td>\n",
       "      <td>10.084097</td>\n",
       "      <td>10.084097</td>\n",
       "    </tr>\n",
       "  </tbody>\n",
       "</table>\n",
       "<p>5 rows × 29 columns</p>\n",
       "</div>"
      ],
      "text/plain": [
       "                  date  Appliances  lights     T1       RH_1    T2       RH_2  \\\n",
       "0  2016-01-11 17:00:00          60      30  19.89  47.596667  19.2  44.790000   \n",
       "1  2016-01-11 17:10:00          60      30  19.89  46.693333  19.2  44.722500   \n",
       "2  2016-01-11 17:20:00          50      30  19.89  46.300000  19.2  44.626667   \n",
       "3  2016-01-11 17:30:00          50      40  19.89  46.066667  19.2  44.590000   \n",
       "4  2016-01-11 17:40:00          60      40  19.89  46.333333  19.2  44.530000   \n",
       "\n",
       "      T3       RH_3         T4  ...         T9   RH_9     T_out  Press_mm_hg  \\\n",
       "0  19.79  44.730000  19.000000  ...  17.033333  45.53  6.600000        733.5   \n",
       "1  19.79  44.790000  19.000000  ...  17.066667  45.56  6.483333        733.6   \n",
       "2  19.79  44.933333  18.926667  ...  17.000000  45.50  6.366667        733.7   \n",
       "3  19.79  45.000000  18.890000  ...  17.000000  45.40  6.250000        733.8   \n",
       "4  19.79  45.000000  18.890000  ...  17.000000  45.40  6.133333        733.9   \n",
       "\n",
       "   RH_out  Windspeed  Visibility  Tdewpoint        rv1        rv2  \n",
       "0    92.0   7.000000   63.000000        5.3  13.275433  13.275433  \n",
       "1    92.0   6.666667   59.166667        5.2  18.606195  18.606195  \n",
       "2    92.0   6.333333   55.333333        5.1  28.642668  28.642668  \n",
       "3    92.0   6.000000   51.500000        5.0  45.410389  45.410389  \n",
       "4    92.0   5.666667   47.666667        4.9  10.084097  10.084097  \n",
       "\n",
       "[5 rows x 29 columns]"
      ]
     },
     "execution_count": 53,
     "metadata": {},
     "output_type": "execute_result"
    }
   ],
   "source": [
    "data = pd.read_csv('data/energydata.csv')\n",
    "data.head()"
   ]
  },
  {
   "cell_type": "code",
   "execution_count": 54,
   "metadata": {},
   "outputs": [
    {
     "data": {
      "text/html": [
       "<div>\n",
       "<style scoped>\n",
       "    .dataframe tbody tr th:only-of-type {\n",
       "        vertical-align: middle;\n",
       "    }\n",
       "\n",
       "    .dataframe tbody tr th {\n",
       "        vertical-align: top;\n",
       "    }\n",
       "\n",
       "    .dataframe thead th {\n",
       "        text-align: right;\n",
       "    }\n",
       "</style>\n",
       "<table border=\"1\" class=\"dataframe\">\n",
       "  <thead>\n",
       "    <tr style=\"text-align: right;\">\n",
       "      <th></th>\n",
       "      <th>date</th>\n",
       "      <th>time_since_previous</th>\n",
       "    </tr>\n",
       "  </thead>\n",
       "  <tbody>\n",
       "    <tr>\n",
       "      <th>0</th>\n",
       "      <td>2016-01-11 17:00:00</td>\n",
       "      <td>NaN</td>\n",
       "    </tr>\n",
       "    <tr>\n",
       "      <th>1</th>\n",
       "      <td>2016-01-11 17:10:00</td>\n",
       "      <td>10.0</td>\n",
       "    </tr>\n",
       "    <tr>\n",
       "      <th>2</th>\n",
       "      <td>2016-01-11 17:20:00</td>\n",
       "      <td>10.0</td>\n",
       "    </tr>\n",
       "    <tr>\n",
       "      <th>3</th>\n",
       "      <td>2016-01-11 17:30:00</td>\n",
       "      <td>10.0</td>\n",
       "    </tr>\n",
       "    <tr>\n",
       "      <th>4</th>\n",
       "      <td>2016-01-11 17:40:00</td>\n",
       "      <td>10.0</td>\n",
       "    </tr>\n",
       "  </tbody>\n",
       "</table>\n",
       "</div>"
      ],
      "text/plain": [
       "                 date  time_since_previous\n",
       "0 2016-01-11 17:00:00                  NaN\n",
       "1 2016-01-11 17:10:00                 10.0\n",
       "2 2016-01-11 17:20:00                 10.0\n",
       "3 2016-01-11 17:30:00                 10.0\n",
       "4 2016-01-11 17:40:00                 10.0"
      ]
     },
     "execution_count": 54,
     "metadata": {},
     "output_type": "execute_result"
    }
   ],
   "source": [
    "# parse as datetime data type\n",
    "data['date'] = pd.to_datetime(data['date'])\n",
    "\n",
    "# determine time between transactions (energy records)\n",
    "data['time_since_previous'] = data['date'].diff()\n",
    "data['time_since_previous'] = data['time_since_previous']/np.timedelta64(1,'m')\n",
    "\n",
    "data[['date', 'time_since_previous']].head()"
   ]
  },
  {
   "cell_type": "code",
   "execution_count": 55,
   "metadata": {},
   "outputs": [
    {
     "data": {
      "text/html": [
       "<div>\n",
       "<style scoped>\n",
       "    .dataframe tbody tr th:only-of-type {\n",
       "        vertical-align: middle;\n",
       "    }\n",
       "\n",
       "    .dataframe tbody tr th {\n",
       "        vertical-align: top;\n",
       "    }\n",
       "\n",
       "    .dataframe thead th {\n",
       "        text-align: right;\n",
       "    }\n",
       "</style>\n",
       "<table border=\"1\" class=\"dataframe\">\n",
       "  <thead>\n",
       "    <tr style=\"text-align: right;\">\n",
       "      <th></th>\n",
       "      <th>date</th>\n",
       "      <th>Appliances</th>\n",
       "      <th>lights</th>\n",
       "      <th>T1</th>\n",
       "      <th>RH_1</th>\n",
       "      <th>T2</th>\n",
       "      <th>RH_2</th>\n",
       "      <th>T3</th>\n",
       "      <th>RH_3</th>\n",
       "      <th>T4</th>\n",
       "      <th>...</th>\n",
       "      <th>Press_mm_hg</th>\n",
       "      <th>RH_out</th>\n",
       "      <th>Windspeed</th>\n",
       "      <th>Visibility</th>\n",
       "      <th>Tdewpoint</th>\n",
       "      <th>rv1</th>\n",
       "      <th>rv2</th>\n",
       "      <th>time_since_previous</th>\n",
       "      <th>day</th>\n",
       "      <th>month</th>\n",
       "    </tr>\n",
       "  </thead>\n",
       "  <tbody>\n",
       "    <tr>\n",
       "      <th>0</th>\n",
       "      <td>2016-01-11 17:00:00</td>\n",
       "      <td>60</td>\n",
       "      <td>30</td>\n",
       "      <td>19.89</td>\n",
       "      <td>47.596667</td>\n",
       "      <td>19.2</td>\n",
       "      <td>44.790000</td>\n",
       "      <td>19.79</td>\n",
       "      <td>44.730000</td>\n",
       "      <td>19.000000</td>\n",
       "      <td>...</td>\n",
       "      <td>733.5</td>\n",
       "      <td>92.0</td>\n",
       "      <td>7.000000</td>\n",
       "      <td>63.000000</td>\n",
       "      <td>5.3</td>\n",
       "      <td>13.275433</td>\n",
       "      <td>13.275433</td>\n",
       "      <td>NaN</td>\n",
       "      <td>11</td>\n",
       "      <td>1</td>\n",
       "    </tr>\n",
       "    <tr>\n",
       "      <th>1</th>\n",
       "      <td>2016-01-11 17:10:00</td>\n",
       "      <td>60</td>\n",
       "      <td>30</td>\n",
       "      <td>19.89</td>\n",
       "      <td>46.693333</td>\n",
       "      <td>19.2</td>\n",
       "      <td>44.722500</td>\n",
       "      <td>19.79</td>\n",
       "      <td>44.790000</td>\n",
       "      <td>19.000000</td>\n",
       "      <td>...</td>\n",
       "      <td>733.6</td>\n",
       "      <td>92.0</td>\n",
       "      <td>6.666667</td>\n",
       "      <td>59.166667</td>\n",
       "      <td>5.2</td>\n",
       "      <td>18.606195</td>\n",
       "      <td>18.606195</td>\n",
       "      <td>10.0</td>\n",
       "      <td>11</td>\n",
       "      <td>1</td>\n",
       "    </tr>\n",
       "    <tr>\n",
       "      <th>2</th>\n",
       "      <td>2016-01-11 17:20:00</td>\n",
       "      <td>50</td>\n",
       "      <td>30</td>\n",
       "      <td>19.89</td>\n",
       "      <td>46.300000</td>\n",
       "      <td>19.2</td>\n",
       "      <td>44.626667</td>\n",
       "      <td>19.79</td>\n",
       "      <td>44.933333</td>\n",
       "      <td>18.926667</td>\n",
       "      <td>...</td>\n",
       "      <td>733.7</td>\n",
       "      <td>92.0</td>\n",
       "      <td>6.333333</td>\n",
       "      <td>55.333333</td>\n",
       "      <td>5.1</td>\n",
       "      <td>28.642668</td>\n",
       "      <td>28.642668</td>\n",
       "      <td>10.0</td>\n",
       "      <td>11</td>\n",
       "      <td>1</td>\n",
       "    </tr>\n",
       "    <tr>\n",
       "      <th>3</th>\n",
       "      <td>2016-01-11 17:30:00</td>\n",
       "      <td>50</td>\n",
       "      <td>40</td>\n",
       "      <td>19.89</td>\n",
       "      <td>46.066667</td>\n",
       "      <td>19.2</td>\n",
       "      <td>44.590000</td>\n",
       "      <td>19.79</td>\n",
       "      <td>45.000000</td>\n",
       "      <td>18.890000</td>\n",
       "      <td>...</td>\n",
       "      <td>733.8</td>\n",
       "      <td>92.0</td>\n",
       "      <td>6.000000</td>\n",
       "      <td>51.500000</td>\n",
       "      <td>5.0</td>\n",
       "      <td>45.410389</td>\n",
       "      <td>45.410389</td>\n",
       "      <td>10.0</td>\n",
       "      <td>11</td>\n",
       "      <td>1</td>\n",
       "    </tr>\n",
       "    <tr>\n",
       "      <th>4</th>\n",
       "      <td>2016-01-11 17:40:00</td>\n",
       "      <td>60</td>\n",
       "      <td>40</td>\n",
       "      <td>19.89</td>\n",
       "      <td>46.333333</td>\n",
       "      <td>19.2</td>\n",
       "      <td>44.530000</td>\n",
       "      <td>19.79</td>\n",
       "      <td>45.000000</td>\n",
       "      <td>18.890000</td>\n",
       "      <td>...</td>\n",
       "      <td>733.9</td>\n",
       "      <td>92.0</td>\n",
       "      <td>5.666667</td>\n",
       "      <td>47.666667</td>\n",
       "      <td>4.9</td>\n",
       "      <td>10.084097</td>\n",
       "      <td>10.084097</td>\n",
       "      <td>10.0</td>\n",
       "      <td>11</td>\n",
       "      <td>1</td>\n",
       "    </tr>\n",
       "  </tbody>\n",
       "</table>\n",
       "<p>5 rows × 32 columns</p>\n",
       "</div>"
      ],
      "text/plain": [
       "                 date  Appliances  lights     T1       RH_1    T2       RH_2  \\\n",
       "0 2016-01-11 17:00:00          60      30  19.89  47.596667  19.2  44.790000   \n",
       "1 2016-01-11 17:10:00          60      30  19.89  46.693333  19.2  44.722500   \n",
       "2 2016-01-11 17:20:00          50      30  19.89  46.300000  19.2  44.626667   \n",
       "3 2016-01-11 17:30:00          50      40  19.89  46.066667  19.2  44.590000   \n",
       "4 2016-01-11 17:40:00          60      40  19.89  46.333333  19.2  44.530000   \n",
       "\n",
       "      T3       RH_3         T4  ...  Press_mm_hg  RH_out  Windspeed  \\\n",
       "0  19.79  44.730000  19.000000  ...        733.5    92.0   7.000000   \n",
       "1  19.79  44.790000  19.000000  ...        733.6    92.0   6.666667   \n",
       "2  19.79  44.933333  18.926667  ...        733.7    92.0   6.333333   \n",
       "3  19.79  45.000000  18.890000  ...        733.8    92.0   6.000000   \n",
       "4  19.79  45.000000  18.890000  ...        733.9    92.0   5.666667   \n",
       "\n",
       "   Visibility  Tdewpoint        rv1        rv2  time_since_previous  day  \\\n",
       "0   63.000000        5.3  13.275433  13.275433                  NaN   11   \n",
       "1   59.166667        5.2  18.606195  18.606195                 10.0   11   \n",
       "2   55.333333        5.1  28.642668  28.642668                 10.0   11   \n",
       "3   51.500000        5.0  45.410389  45.410389                 10.0   11   \n",
       "4   47.666667        4.9  10.084097  10.084097                 10.0   11   \n",
       "\n",
       "   month  \n",
       "0      1  \n",
       "1      1  \n",
       "2      1  \n",
       "3      1  \n",
       "4      1  \n",
       "\n",
       "[5 rows x 32 columns]"
      ]
     },
     "execution_count": 55,
     "metadata": {},
     "output_type": "execute_result"
    }
   ],
   "source": [
    "# extract day and month from datetime variable\n",
    "data[['day', 'month']] = pd.DataFrame([(x.day, x.month) for x in data['date']])\n",
    "\n",
    "data.head()"
   ]
  },
  {
   "cell_type": "code",
   "execution_count": 56,
   "metadata": {},
   "outputs": [],
   "source": [
    "# make the datetime variable the index of the series\n",
    "data.index = data['date']"
   ]
  },
  {
   "cell_type": "code",
   "execution_count": 57,
   "metadata": {},
   "outputs": [
    {
     "data": {
      "text/plain": [
       "<matplotlib.axes._subplots.AxesSubplot at 0x2230da41b88>"
      ]
     },
     "execution_count": 57,
     "metadata": {},
     "output_type": "execute_result"
    },
    {
     "data": {
      "image/png": "[encoded data removed]",
      "text/plain": [
       "<Figure size 432x288 with 1 Axes>"
      ]
     },
     "metadata": {
      "needs_background": "light"
     },
     "output_type": "display_data"
    }
   ],
   "source": [
    "# Plot mean energy consumption by appliances per day\n",
    "data.groupby(['month', 'day'])['Appliances'].mean().plot()"
   ]
  },
  {
   "cell_type": "code",
   "execution_count": 58,
   "metadata": {},
   "outputs": [
    {
     "data": {
      "text/plain": [
       "<matplotlib.axes._subplots.AxesSubplot at 0x2230e006e08>"
      ]
     },
     "execution_count": 58,
     "metadata": {},
     "output_type": "execute_result"
    },
    {
     "data": {
      "image/png": "[encoded data removed]",
      "text/plain": [
       "<Figure size 432x288 with 1 Axes>"
      ]
     },
     "metadata": {
      "needs_background": "light"
     },
     "output_type": "display_data"
    }
   ],
   "source": [
    "# Plot mean energy consumption by lights per day\n",
    "data.groupby(['month', 'day'])['lights'].mean().plot()"
   ]
  },
  {
   "cell_type": "code",
   "execution_count": 59,
   "metadata": {},
   "outputs": [
    {
     "data": {
      "text/plain": [
       "array([  3,   6,   9,  13,  15,  19,  21,  23,  26,  28,  32,  35,  39,\n",
       "        42,  45,  49,  51,  53,  56,  59,  61,  63,  65,  68,  72,  74,\n",
       "        77,  84,  88,  92,  96, 100, 102, 110, 116, 119, 121, 123, 125,\n",
       "       128, 131, 134, 136], dtype=int64)"
      ]
     },
     "execution_count": 59,
     "metadata": {},
     "output_type": "execute_result"
    }
   ],
   "source": [
    "# create pandas series with the mean energy consumption per day\n",
    "\n",
    "# electricity consumption by appliances per day\n",
    "elec_pday = data.groupby(['month', 'day'])['Appliances'].mean()\n",
    "\n",
    "# light energy consumption per day\n",
    "light_pday = data.groupby(['month', 'day'])['lights'].mean()\n",
    "\n",
    "# find the peaks, that is, the local maxima\n",
    "peaks, _ = find_peaks(elec_pday.values, height=60)\n",
    "\n",
    "peaks"
   ]
  },
  {
   "cell_type": "code",
   "execution_count": 60,
   "metadata": {},
   "outputs": [
    {
     "data": {
      "text/plain": [
       "((138,), (43,))"
      ]
     },
     "execution_count": 60,
     "metadata": {},
     "output_type": "execute_result"
    }
   ],
   "source": [
    "# compare the shape of the time series with that of the selected local maxima series\n",
    "elec_pday.shape, elec_pday[peaks].shape"
   ]
  },
  {
   "cell_type": "code",
   "execution_count": 61,
   "metadata": {},
   "outputs": [
    {
     "data": {
      "text/plain": [
       "month  day\n",
       "1      14     151.388889\n",
       "       17     142.708333\n",
       "       20     114.444444\n",
       "       24     150.277778\n",
       "       26      71.319444\n",
       "       30     130.486111\n",
       "2      1      155.902778\n",
       "       3      132.916667\n",
       "       6       83.194444\n",
       "       8      147.361111\n",
       "       12     117.847222\n",
       "       15     117.708333\n",
       "       19     119.097222\n",
       "       22      93.402778\n",
       "       25     125.069444\n",
       "       29     157.152778\n",
       "3      2       92.777778\n",
       "       4       95.347222\n",
       "       7      142.638889\n",
       "       10      92.916667\n",
       "Name: Appliances, dtype: float64"
      ]
     },
     "execution_count": 61,
     "metadata": {},
     "output_type": "execute_result"
    }
   ],
   "source": [
    "# select only the values of the series with the local maxima\n",
    "elec_pday[peaks][:20]"
   ]
  },
  {
   "cell_type": "code",
   "execution_count": 62,
   "metadata": {},
   "outputs": [
    {
     "data": {
      "text/html": [
       "<div>\n",
       "<style scoped>\n",
       "    .dataframe tbody tr th:only-of-type {\n",
       "        vertical-align: middle;\n",
       "    }\n",
       "\n",
       "    .dataframe tbody tr th {\n",
       "        vertical-align: top;\n",
       "    }\n",
       "\n",
       "    .dataframe thead th {\n",
       "        text-align: right;\n",
       "    }\n",
       "</style>\n",
       "<table border=\"1\" class=\"dataframe\">\n",
       "  <thead>\n",
       "    <tr style=\"text-align: right;\">\n",
       "      <th></th>\n",
       "      <th>month</th>\n",
       "      <th>day</th>\n",
       "      <th>Appliances</th>\n",
       "      <th>year</th>\n",
       "    </tr>\n",
       "  </thead>\n",
       "  <tbody>\n",
       "    <tr>\n",
       "      <th>0</th>\n",
       "      <td>1</td>\n",
       "      <td>14</td>\n",
       "      <td>151.388889</td>\n",
       "      <td>2016</td>\n",
       "    </tr>\n",
       "    <tr>\n",
       "      <th>1</th>\n",
       "      <td>1</td>\n",
       "      <td>17</td>\n",
       "      <td>142.708333</td>\n",
       "      <td>2016</td>\n",
       "    </tr>\n",
       "    <tr>\n",
       "      <th>2</th>\n",
       "      <td>1</td>\n",
       "      <td>20</td>\n",
       "      <td>114.444444</td>\n",
       "      <td>2016</td>\n",
       "    </tr>\n",
       "    <tr>\n",
       "      <th>3</th>\n",
       "      <td>1</td>\n",
       "      <td>24</td>\n",
       "      <td>150.277778</td>\n",
       "      <td>2016</td>\n",
       "    </tr>\n",
       "    <tr>\n",
       "      <th>4</th>\n",
       "      <td>1</td>\n",
       "      <td>26</td>\n",
       "      <td>71.319444</td>\n",
       "      <td>2016</td>\n",
       "    </tr>\n",
       "  </tbody>\n",
       "</table>\n",
       "</div>"
      ],
      "text/plain": [
       "   month  day  Appliances  year\n",
       "0      1   14  151.388889  2016\n",
       "1      1   17  142.708333  2016\n",
       "2      1   20  114.444444  2016\n",
       "3      1   24  150.277778  2016\n",
       "4      1   26   71.319444  2016"
      ]
     },
     "execution_count": 62,
     "metadata": {},
     "output_type": "execute_result"
    }
   ],
   "source": [
    "# capture the series with local maxima in a pandas dataframe\n",
    "# then reset index so that the month and day become part of the columns\n",
    "\n",
    "# finally, we need to add the year, to be able to reconstitute the date\n",
    "# from the existing time columns\n",
    "tmp = pd.DataFrame(elec_pday[peaks]).reset_index(drop=False)\n",
    "tmp['year'] = 2016\n",
    "tmp.head()"
   ]
  },
  {
   "cell_type": "code",
   "execution_count": 63,
   "metadata": {},
   "outputs": [
    {
     "data": {
      "text/html": [
       "<div>\n",
       "<style scoped>\n",
       "    .dataframe tbody tr th:only-of-type {\n",
       "        vertical-align: middle;\n",
       "    }\n",
       "\n",
       "    .dataframe tbody tr th {\n",
       "        vertical-align: top;\n",
       "    }\n",
       "\n",
       "    .dataframe thead th {\n",
       "        text-align: right;\n",
       "    }\n",
       "</style>\n",
       "<table border=\"1\" class=\"dataframe\">\n",
       "  <thead>\n",
       "    <tr style=\"text-align: right;\">\n",
       "      <th></th>\n",
       "      <th>month</th>\n",
       "      <th>day</th>\n",
       "      <th>Appliances</th>\n",
       "      <th>year</th>\n",
       "      <th>date</th>\n",
       "    </tr>\n",
       "  </thead>\n",
       "  <tbody>\n",
       "    <tr>\n",
       "      <th>0</th>\n",
       "      <td>1</td>\n",
       "      <td>14</td>\n",
       "      <td>151.388889</td>\n",
       "      <td>2016</td>\n",
       "      <td>2016-01-14</td>\n",
       "    </tr>\n",
       "    <tr>\n",
       "      <th>1</th>\n",
       "      <td>1</td>\n",
       "      <td>17</td>\n",
       "      <td>142.708333</td>\n",
       "      <td>2016</td>\n",
       "      <td>2016-01-17</td>\n",
       "    </tr>\n",
       "    <tr>\n",
       "      <th>2</th>\n",
       "      <td>1</td>\n",
       "      <td>20</td>\n",
       "      <td>114.444444</td>\n",
       "      <td>2016</td>\n",
       "      <td>2016-01-20</td>\n",
       "    </tr>\n",
       "    <tr>\n",
       "      <th>3</th>\n",
       "      <td>1</td>\n",
       "      <td>24</td>\n",
       "      <td>150.277778</td>\n",
       "      <td>2016</td>\n",
       "      <td>2016-01-24</td>\n",
       "    </tr>\n",
       "    <tr>\n",
       "      <th>4</th>\n",
       "      <td>1</td>\n",
       "      <td>26</td>\n",
       "      <td>71.319444</td>\n",
       "      <td>2016</td>\n",
       "      <td>2016-01-26</td>\n",
       "    </tr>\n",
       "  </tbody>\n",
       "</table>\n",
       "</div>"
      ],
      "text/plain": [
       "   month  day  Appliances  year       date\n",
       "0      1   14  151.388889  2016 2016-01-14\n",
       "1      1   17  142.708333  2016 2016-01-17\n",
       "2      1   20  114.444444  2016 2016-01-20\n",
       "3      1   24  150.277778  2016 2016-01-24\n",
       "4      1   26   71.319444  2016 2016-01-26"
      ]
     },
     "execution_count": 63,
     "metadata": {},
     "output_type": "execute_result"
    }
   ],
   "source": [
    "# reconstitute the datetime variable\n",
    "tmp['date'] = pd.to_datetime(tmp[['year', 'month', 'day']])\n",
    "\n",
    "tmp.head()"
   ]
  },
  {
   "cell_type": "code",
   "execution_count": 64,
   "metadata": {},
   "outputs": [
    {
     "data": {
      "text/html": [
       "<div>\n",
       "<style scoped>\n",
       "    .dataframe tbody tr th:only-of-type {\n",
       "        vertical-align: middle;\n",
       "    }\n",
       "\n",
       "    .dataframe tbody tr th {\n",
       "        vertical-align: top;\n",
       "    }\n",
       "\n",
       "    .dataframe thead th {\n",
       "        text-align: right;\n",
       "    }\n",
       "</style>\n",
       "<table border=\"1\" class=\"dataframe\">\n",
       "  <thead>\n",
       "    <tr style=\"text-align: right;\">\n",
       "      <th></th>\n",
       "      <th>month</th>\n",
       "      <th>day</th>\n",
       "      <th>Appliances</th>\n",
       "      <th>year</th>\n",
       "      <th>date</th>\n",
       "      <th>peak_distance</th>\n",
       "    </tr>\n",
       "  </thead>\n",
       "  <tbody>\n",
       "    <tr>\n",
       "      <th>0</th>\n",
       "      <td>1</td>\n",
       "      <td>14</td>\n",
       "      <td>151.388889</td>\n",
       "      <td>2016</td>\n",
       "      <td>2016-01-14</td>\n",
       "      <td>NaN</td>\n",
       "    </tr>\n",
       "    <tr>\n",
       "      <th>1</th>\n",
       "      <td>1</td>\n",
       "      <td>17</td>\n",
       "      <td>142.708333</td>\n",
       "      <td>2016</td>\n",
       "      <td>2016-01-17</td>\n",
       "      <td>3.0</td>\n",
       "    </tr>\n",
       "    <tr>\n",
       "      <th>2</th>\n",
       "      <td>1</td>\n",
       "      <td>20</td>\n",
       "      <td>114.444444</td>\n",
       "      <td>2016</td>\n",
       "      <td>2016-01-20</td>\n",
       "      <td>3.0</td>\n",
       "    </tr>\n",
       "    <tr>\n",
       "      <th>3</th>\n",
       "      <td>1</td>\n",
       "      <td>24</td>\n",
       "      <td>150.277778</td>\n",
       "      <td>2016</td>\n",
       "      <td>2016-01-24</td>\n",
       "      <td>4.0</td>\n",
       "    </tr>\n",
       "    <tr>\n",
       "      <th>4</th>\n",
       "      <td>1</td>\n",
       "      <td>26</td>\n",
       "      <td>71.319444</td>\n",
       "      <td>2016</td>\n",
       "      <td>2016-01-26</td>\n",
       "      <td>2.0</td>\n",
       "    </tr>\n",
       "  </tbody>\n",
       "</table>\n",
       "</div>"
      ],
      "text/plain": [
       "   month  day  Appliances  year       date  peak_distance\n",
       "0      1   14  151.388889  2016 2016-01-14            NaN\n",
       "1      1   17  142.708333  2016 2016-01-17            3.0\n",
       "2      1   20  114.444444  2016 2016-01-20            3.0\n",
       "3      1   24  150.277778  2016 2016-01-24            4.0\n",
       "4      1   26   71.319444  2016 2016-01-26            2.0"
      ]
     },
     "execution_count": 64,
     "metadata": {},
     "output_type": "execute_result"
    }
   ],
   "source": [
    "# calculate the distance, in days, between the local maxima\n",
    "# we do this utilizing the dataframe with only the local maxima\n",
    "tmp['peak_distance'] = tmp['date'].diff()\n",
    "tmp['peak_distance'] = tmp['peak_distance'].dt.days\n",
    "\n",
    "tmp.head()"
   ]
  },
  {
   "cell_type": "markdown",
   "metadata": {},
   "source": [
    "#### Putting all the steps together in a function:\n",
    "It's useful know how to automate the calculation of peak distances across variables:\n",
    "- find local maxima\n",
    "- select the series values with local maxima only\n",
    "- transform the series into a dataframe with the month and day index as columns\n",
    "- add year to reconstitute date\n",
    "- reconstitute date\n",
    "- calculate difference in days between local maxima\n",
    "- return difference in days between local maxima that is a Pandas Series\n",
    "Apply the function:\n",
    "- return a series with a difference in days respect to the previous local maxima for the time series with the mean daily energy consumption by lights\n",
    "- display first 10 values of the series distances[0:10]"
   ]
  },
  {
   "cell_type": "code",
   "execution_count": 65,
   "metadata": {},
   "outputs": [
    {
     "data": {
      "text/plain": [
       "0    NaN\n",
       "1    3.0\n",
       "2    4.0\n",
       "3    4.0\n",
       "4    2.0\n",
       "5    6.0\n",
       "6    3.0\n",
       "7    4.0\n",
       "8    3.0\n",
       "9    4.0\n",
       "Name: peak_distance, dtype: float64"
      ]
     },
     "execution_count": 65,
     "metadata": {},
     "output_type": "execute_result"
    }
   ],
   "source": [
    "def time_between_peaks(ser):   \n",
    "    peaks, _ = find_peaks(ser.values)    \n",
    "    tmp = pd.DataFrame(ser[peaks]).reset_index(drop=False)    \n",
    "    tmp['year'] = 2016 \n",
    "    tmp['date'] = pd.to_datetime(tmp[['year', 'month', 'day']])\n",
    "    tmp['peak_distance'] = tmp['date'].diff()\n",
    "    tmp['peak_distance'] = tmp['peak_distance'].dt.days \n",
    "    return tmp['peak_distance']\n",
    "\n",
    "distances = time_between_peaks(light_pday)\n",
    "distances[:10]"
   ]
  },
  {
   "cell_type": "markdown",
   "metadata": {},
   "source": [
    "#### To determine distance between local maxima and minima\n",
    "We need to calculate both, and then concatenate the arrays, and use that to select the data\n",
    "- determine the days of minimum electricity consumption throughout the 5 months, that is the local minima\n",
    "    - we use peak values but we turn the series upside down with the reciprocal function\n",
    "- compare the number of observations in the entire series vs the number of local maxima, vs the number of local minima\n",
    "- concatenate the indices that contain the local minima and maxima and then sort its values"
   ]
  },
  {
   "cell_type": "code",
   "execution_count": 66,
   "metadata": {},
   "outputs": [
    {
     "data": {
      "text/plain": [
       "array([  1,   5,   8,  14,  20,  22,  25,  27,  30,  33,  37,  41,  44,\n",
       "        50,  52,  55,  57,  60,  62,  64,  67,  71,  73,  76,  87,  90,\n",
       "        94,  98, 101, 106, 113, 118, 120, 122, 124, 127, 130, 133, 135],\n",
       "      dtype=int64)"
      ]
     },
     "execution_count": 66,
     "metadata": {},
     "output_type": "execute_result"
    }
   ],
   "source": [
    "valleys, _ = find_peaks(1 / elec_pday.values, height=(-np.Inf, 1/60))\n",
    "valleys"
   ]
  },
  {
   "cell_type": "code",
   "execution_count": 67,
   "metadata": {},
   "outputs": [
    {
     "data": {
      "text/plain": [
       "((138,), (43,), (39,))"
      ]
     },
     "execution_count": 67,
     "metadata": {},
     "output_type": "execute_result"
    }
   ],
   "source": [
    "elec_pday.shape, elec_pday[peaks].shape, elec_pday[valleys].shape"
   ]
  },
  {
   "cell_type": "code",
   "execution_count": 68,
   "metadata": {},
   "outputs": [
    {
     "data": {
      "text/plain": [
       "array([  1,   3,   5,   6,   8,   9,  13,  14,  15,  19,  20,  21,  22,\n",
       "        23,  25,  26,  27,  28,  30,  32,  33,  35,  37,  39,  41,  42,\n",
       "        44,  45,  49,  50,  51,  52,  53,  55,  56,  57,  59,  60,  61,\n",
       "        62,  63,  64,  65,  67,  68,  71,  72,  73,  74,  76,  77,  84,\n",
       "        87,  88,  90,  92,  94,  96,  98, 100, 101, 102, 106, 110, 113,\n",
       "       116, 118, 119, 120, 121, 122, 123, 124, 125, 127, 128, 130, 131,\n",
       "       133, 134, 135, 136], dtype=int64)"
      ]
     },
     "execution_count": 68,
     "metadata": {},
     "output_type": "execute_result"
    }
   ],
   "source": [
    "peaksandvalleys = np.concatenate([peaks, valleys])\n",
    "peaksandvalleys.sort()\n",
    "peaksandvalleys"
   ]
  },
  {
   "cell_type": "code",
   "execution_count": 69,
   "metadata": {},
   "outputs": [
    {
     "data": {
      "text/plain": [
       "(82,)"
      ]
     },
     "execution_count": 69,
     "metadata": {},
     "output_type": "execute_result"
    }
   ],
   "source": [
    "# now we use this index to select the data\n",
    "elec_pday[peaksandvalleys].shape"
   ]
  },
  {
   "cell_type": "markdown",
   "metadata": {},
   "source": [
    "- To determine the time elapsed between local maxima and minima, we need create a dataframe with those values executing:\n",
    "        tmp = pd.DataFrame(elec_pday[peaksandvalleys]).reset_index(drop=False)\n",
    "- and then,     \n",
    "        1) add the year, \n",
    "        2) reconstitute the date, and \n",
    "        3) calculate the time between the local maxima and minima, as we have done in previous cells.\n",
    "        \n",
    "#### There is more...\n",
    "- We can determine the mean difference between events for various customers or entities.\n",
    "- Let's work with the mock customer transactions data set as example."
   ]
  },
  {
   "cell_type": "code",
   "execution_count": 70,
   "metadata": {},
   "outputs": [
    {
     "data": {
      "text/html": [
       "<div>\n",
       "<style scoped>\n",
       "    .dataframe tbody tr th:only-of-type {\n",
       "        vertical-align: middle;\n",
       "    }\n",
       "\n",
       "    .dataframe tbody tr th {\n",
       "        vertical-align: top;\n",
       "    }\n",
       "\n",
       "    .dataframe thead th {\n",
       "        text-align: right;\n",
       "    }\n",
       "</style>\n",
       "<table border=\"1\" class=\"dataframe\">\n",
       "  <thead>\n",
       "    <tr style=\"text-align: right;\">\n",
       "      <th></th>\n",
       "      <th>customer_id</th>\n",
       "      <th>transaction_id</th>\n",
       "      <th>transaction_time</th>\n",
       "      <th>amount</th>\n",
       "    </tr>\n",
       "  </thead>\n",
       "  <tbody>\n",
       "    <tr>\n",
       "      <th>0</th>\n",
       "      <td>2</td>\n",
       "      <td>298</td>\n",
       "      <td>2014-01-01 00:00:00</td>\n",
       "      <td>127.64</td>\n",
       "    </tr>\n",
       "    <tr>\n",
       "      <th>1</th>\n",
       "      <td>2</td>\n",
       "      <td>2</td>\n",
       "      <td>2014-01-01 00:01:05</td>\n",
       "      <td>109.48</td>\n",
       "    </tr>\n",
       "    <tr>\n",
       "      <th>2</th>\n",
       "      <td>2</td>\n",
       "      <td>308</td>\n",
       "      <td>2014-01-01 00:02:10</td>\n",
       "      <td>95.06</td>\n",
       "    </tr>\n",
       "    <tr>\n",
       "      <th>3</th>\n",
       "      <td>2</td>\n",
       "      <td>116</td>\n",
       "      <td>2014-01-01 00:03:15</td>\n",
       "      <td>78.92</td>\n",
       "    </tr>\n",
       "    <tr>\n",
       "      <th>4</th>\n",
       "      <td>2</td>\n",
       "      <td>371</td>\n",
       "      <td>2014-01-01 00:04:20</td>\n",
       "      <td>31.54</td>\n",
       "    </tr>\n",
       "  </tbody>\n",
       "</table>\n",
       "</div>"
      ],
      "text/plain": [
       "   customer_id  transaction_id    transaction_time  amount\n",
       "0            2             298 2014-01-01 00:00:00  127.64\n",
       "1            2               2 2014-01-01 00:01:05  109.48\n",
       "2            2             308 2014-01-01 00:02:10   95.06\n",
       "3            2             116 2014-01-01 00:03:15   78.92\n",
       "4            2             371 2014-01-01 00:04:20   31.54"
      ]
     },
     "execution_count": 70,
     "metadata": {},
     "output_type": "execute_result"
    }
   ],
   "source": [
    "import featuretools as ft\n",
    "\n",
    "# load data set from feature tools\n",
    "data_dict = ft.demo.load_mock_customer()\n",
    "\n",
    "data = data_dict[\"transactions\"].merge(\n",
    "    data_dict[\"sessions\"]).merge(data_dict[\"customers\"])\n",
    "cols = ['customer_id', 'transaction_id', 'transaction_time', 'amount']\n",
    "data = data[cols]\n",
    "\n",
    "data.head()"
   ]
  },
  {
   "cell_type": "code",
   "execution_count": 71,
   "metadata": {},
   "outputs": [
    {
     "data": {
      "text/plain": [
       "customer_id\n",
       "1    0.018056\n",
       "2    0.018056\n",
       "3    0.018056\n",
       "4    0.018056\n",
       "5    0.018056\n",
       "Name: time_since_previous, dtype: float64"
      ]
     },
     "execution_count": 71,
     "metadata": {},
     "output_type": "execute_result"
    }
   ],
   "source": [
    "# Let's first calculate the time since previous transaction \n",
    "data.sort_values(by=['transaction_time'], ascending=True, inplace=True)\n",
    "\n",
    "# calculate time since previous transaction in hours\n",
    "data['time_since_previous'] = data['transaction_time'].diff()\n",
    "data['time_since_previous'] = data['time_since_previous']/np.timedelta64(1,'h')\n",
    "\n",
    "# calculate mean time between transactions per customer\n",
    "# all transactions occur every 1h and 5 min in the toy data set\n",
    "# so the result is a bit boring, but you get the yiest\n",
    "tmp = data.groupby('customer_id')['time_since_previous'].mean()\n",
    "tmp"
   ]
  },
  {
   "cell_type": "code",
   "execution_count": 72,
   "metadata": {},
   "outputs": [
    {
     "data": {
      "text/html": [
       "<div>\n",
       "<style scoped>\n",
       "    .dataframe tbody tr th:only-of-type {\n",
       "        vertical-align: middle;\n",
       "    }\n",
       "\n",
       "    .dataframe tbody tr th {\n",
       "        vertical-align: top;\n",
       "    }\n",
       "\n",
       "    .dataframe thead th {\n",
       "        text-align: right;\n",
       "    }\n",
       "</style>\n",
       "<table border=\"1\" class=\"dataframe\">\n",
       "  <thead>\n",
       "    <tr style=\"text-align: right;\">\n",
       "      <th></th>\n",
       "      <th>customer_id</th>\n",
       "      <th>transaction_id</th>\n",
       "      <th>transaction_time</th>\n",
       "      <th>amount</th>\n",
       "      <th>time_since_previous</th>\n",
       "      <th>hr</th>\n",
       "    </tr>\n",
       "  </thead>\n",
       "  <tbody>\n",
       "    <tr>\n",
       "      <th>0</th>\n",
       "      <td>2</td>\n",
       "      <td>298</td>\n",
       "      <td>2014-01-01 00:00:00</td>\n",
       "      <td>127.64</td>\n",
       "      <td>NaN</td>\n",
       "      <td>0</td>\n",
       "    </tr>\n",
       "    <tr>\n",
       "      <th>1</th>\n",
       "      <td>2</td>\n",
       "      <td>2</td>\n",
       "      <td>2014-01-01 00:01:05</td>\n",
       "      <td>109.48</td>\n",
       "      <td>0.018056</td>\n",
       "      <td>0</td>\n",
       "    </tr>\n",
       "    <tr>\n",
       "      <th>2</th>\n",
       "      <td>2</td>\n",
       "      <td>308</td>\n",
       "      <td>2014-01-01 00:02:10</td>\n",
       "      <td>95.06</td>\n",
       "      <td>0.018056</td>\n",
       "      <td>0</td>\n",
       "    </tr>\n",
       "    <tr>\n",
       "      <th>3</th>\n",
       "      <td>2</td>\n",
       "      <td>116</td>\n",
       "      <td>2014-01-01 00:03:15</td>\n",
       "      <td>78.92</td>\n",
       "      <td>0.018056</td>\n",
       "      <td>0</td>\n",
       "    </tr>\n",
       "    <tr>\n",
       "      <th>4</th>\n",
       "      <td>2</td>\n",
       "      <td>371</td>\n",
       "      <td>2014-01-01 00:04:20</td>\n",
       "      <td>31.54</td>\n",
       "      <td>0.018056</td>\n",
       "      <td>0</td>\n",
       "    </tr>\n",
       "  </tbody>\n",
       "</table>\n",
       "</div>"
      ],
      "text/plain": [
       "   customer_id  transaction_id    transaction_time  amount  \\\n",
       "0            2             298 2014-01-01 00:00:00  127.64   \n",
       "1            2               2 2014-01-01 00:01:05  109.48   \n",
       "2            2             308 2014-01-01 00:02:10   95.06   \n",
       "3            2             116 2014-01-01 00:03:15   78.92   \n",
       "4            2             371 2014-01-01 00:04:20   31.54   \n",
       "\n",
       "   time_since_previous  hr  \n",
       "0                  NaN   0  \n",
       "1             0.018056   0  \n",
       "2             0.018056   0  \n",
       "3             0.018056   0  \n",
       "4             0.018056   0  "
      ]
     },
     "execution_count": 72,
     "metadata": {},
     "output_type": "execute_result"
    }
   ],
   "source": [
    "# Now, let's calculate the time between local extrema\n",
    "# extract the hour of the transaction\n",
    "data['hr'] = data['transaction_time'].dt.hour\n",
    "\n",
    "data.head()"
   ]
  },
  {
   "cell_type": "code",
   "execution_count": 73,
   "metadata": {},
   "outputs": [
    {
     "data": {
      "image/png": "[encoded data removed]",
      "text/plain": [
       "<Figure size 288x216 with 1 Axes>"
      ]
     },
     "metadata": {
      "needs_background": "light"
     },
     "output_type": "display_data"
    },
    {
     "data": {
      "image/png": "[encoded data removed]",
      "text/plain": [
       "<Figure size 288x216 with 1 Axes>"
      ]
     },
     "metadata": {
      "needs_background": "light"
     },
     "output_type": "display_data"
    },
    {
     "data": {
      "image/png": "[encoded data removed]",
      "text/plain": [
       "<Figure size 288x216 with 1 Axes>"
      ]
     },
     "metadata": {
      "needs_background": "light"
     },
     "output_type": "display_data"
    },
    {
     "data": {
      "image/png": "[encoded data removed]",
      "text/plain": [
       "<Figure size 288x216 with 1 Axes>"
      ]
     },
     "metadata": {
      "needs_background": "light"
     },
     "output_type": "display_data"
    },
    {
     "data": {
      "image/png": "[encoded data removed]",
      "text/plain": [
       "<Figure size 288x216 with 1 Axes>"
      ]
     },
     "metadata": {
      "needs_background": "light"
     },
     "output_type": "display_data"
    }
   ],
   "source": [
    "# now let's plot the local maxima for the time series with \n",
    "# the mean amount spent per hour ==> one plot per customer\n",
    "def find_and_plot_peaks(x, customer):\n",
    "\n",
    "    # find local maxima and minima\n",
    "    peaks, _ = find_peaks(x)\n",
    "    valleys, _ = find_peaks(1/x)\n",
    "    \n",
    "    # plot the peaks and valleys\n",
    "    plt.figure(figsize=(4,3))\n",
    "    plt.plot(x)\n",
    "    plt.plot(peaks, x[peaks], \"x\")\n",
    "    plt.plot(valleys, x[valleys], \"x\", color='red')\n",
    "    plt.title('Customer number {}'.format(customer))\n",
    "    plt.show()\n",
    "    \n",
    "# make a plot per customer, with local minima and maxima of amount spent per hr\n",
    "for customer in data['customer_id'].unique():\n",
    "    tmp = data[data['customer_id']==customer]\n",
    "    tmp = tmp.groupby('hr')['amount'].mean()\n",
    "    tmp.reset_index(drop=True, inplace=True)\n",
    "    find_and_plot_peaks(tmp, customer)"
   ]
  },
  {
   "cell_type": "markdown",
   "metadata": {},
   "source": [
    "Let's create a series of functions to find the local maxima and minima put the arrays together, and then slice the original series into those values, to finally calculate the time elapsed between them\n",
    "- These functions operate at a pandas series level (x is a pandas series)\n",
    "    - finds number of local maxima\n",
    "    - finds number of local minima\n",
    "    - concatenates the indices of the peaks and valleys     \n",
    "    - selects the points with peaks and valleys in the series and determines the hr difference between them.\n",
    "        -finally, returns the mean distance between all local maxima and minima"
   ]
  },
  {
   "cell_type": "code",
   "execution_count": 74,
   "metadata": {},
   "outputs": [],
   "source": [
    "def find_no_peaks(x):\n",
    "    peaks, _ = find_peaks(x)\n",
    "    return peaks\n",
    "\n",
    "def find_no_valleys(x): \n",
    "    valleys, _ = find_peaks(1/x)\n",
    "    return valleys\n",
    "\n",
    "def concatenate_pav(x):    \n",
    "    ids = np.concatenate([find_no_peaks(x), find_no_valleys(x)])\n",
    "    ids.sort()\n",
    "    return ids\n",
    "\n",
    "def slice_and_measure(x):\n",
    "    ids = concatenate_pav(x)\n",
    "    tmp = pd.DataFrame(x.iloc[ids]).reset_index(drop=False)\n",
    "    t = tmp['hr'].diff()\n",
    "    return t.mean(skipna=True)"
   ]
  },
  {
   "cell_type": "code",
   "execution_count": 75,
   "metadata": {},
   "outputs": [
    {
     "data": {
      "text/plain": [
       "hr\n",
       "1     62.791333\n",
       "4     55.579412\n",
       "5     81.747500\n",
       "6     62.019333\n",
       "8     69.403939\n",
       "9    148.310000\n",
       "Name: amount, dtype: float64"
      ]
     },
     "execution_count": 75,
     "metadata": {},
     "output_type": "execute_result"
    }
   ],
   "source": [
    "# let's test the functions using the data of customer 3 \n",
    "df = data[data['customer_id'] == 3]\n",
    "df = df.groupby('hr')['amount'].mean()\n",
    "df"
   ]
  },
  {
   "cell_type": "code",
   "execution_count": 76,
   "metadata": {},
   "outputs": [
    {
     "data": {
      "text/plain": [
       "array([2], dtype=int64)"
      ]
     },
     "execution_count": 76,
     "metadata": {},
     "output_type": "execute_result"
    }
   ],
   "source": [
    "# test function that finds number of peaks\n",
    "peaks = find_no_peaks(df)\n",
    "peaks"
   ]
  },
  {
   "cell_type": "code",
   "execution_count": 77,
   "metadata": {},
   "outputs": [
    {
     "data": {
      "text/plain": [
       "array([1, 3], dtype=int64)"
      ]
     },
     "execution_count": 77,
     "metadata": {},
     "output_type": "execute_result"
    }
   ],
   "source": [
    "# test function that finds number of valleys\n",
    "valleys = find_no_valleys(df)\n",
    "valleys"
   ]
  },
  {
   "cell_type": "code",
   "execution_count": 78,
   "metadata": {},
   "outputs": [
    {
     "data": {
      "text/plain": [
       "array([1, 2, 3], dtype=int64)"
      ]
     },
     "execution_count": 78,
     "metadata": {},
     "output_type": "execute_result"
    }
   ],
   "source": [
    "# test concatenate function\n",
    "ids = concatenate_pav(df)\n",
    "ids"
   ]
  },
  {
   "cell_type": "code",
   "execution_count": 79,
   "metadata": {},
   "outputs": [
    {
     "data": {
      "text/plain": [
       "customer_id\n",
       "1    [1, 2, 3, 5]\n",
       "2             [2]\n",
       "3       [1, 2, 3]\n",
       "4       [1, 2, 3]\n",
       "5          [1, 4]\n",
       "Name: amount, dtype: object"
      ]
     },
     "execution_count": 79,
     "metadata": {},
     "output_type": "execute_result"
    }
   ],
   "source": [
    "# test result of concatenate_pav when applied to the\n",
    "# entire dataset: that would be the indeces with max and min\n",
    "# transaction amount per customer\n",
    "data.groupby(['customer_id', 'hr'])['amount'].mean().groupby('customer_id').apply(concatenate_pav)"
   ]
  },
  {
   "cell_type": "code",
   "execution_count": 80,
   "metadata": {},
   "outputs": [
    {
     "data": {
      "text/plain": [
       "0    NaN\n",
       "1    1.0\n",
       "2    1.0\n",
       "Name: hr, dtype: float64"
      ]
     },
     "execution_count": 80,
     "metadata": {},
     "output_type": "execute_result"
    }
   ],
   "source": [
    "# step by step the inner code of the function slide_and_measure()\n",
    "tmp = pd.DataFrame(df.iloc[ids]).reset_index(drop=False)\n",
    "t = tmp['hr'].diff()\n",
    "t"
   ]
  },
  {
   "cell_type": "code",
   "execution_count": 81,
   "metadata": {},
   "outputs": [
    {
     "data": {
      "text/plain": [
       "1.0"
      ]
     },
     "execution_count": 81,
     "metadata": {},
     "output_type": "execute_result"
    }
   ],
   "source": [
    "# output of slide_and_measure()\n",
    "t.mean(skipna=True)"
   ]
  },
  {
   "cell_type": "code",
   "execution_count": 82,
   "metadata": {},
   "outputs": [
    {
     "data": {
      "text/plain": [
       "1.0"
      ]
     },
     "execution_count": 82,
     "metadata": {},
     "output_type": "execute_result"
    }
   ],
   "source": [
    "# test slide_and_measure() on 1 customer\n",
    "slice_and_measure(df)"
   ]
  },
  {
   "cell_type": "code",
   "execution_count": 83,
   "metadata": {},
   "outputs": [
    {
     "data": {
      "text/plain": [
       "customer_id\n",
       "1    1.666667\n",
       "2         NaN\n",
       "3    1.000000\n",
       "4    1.000000\n",
       "5    3.000000\n",
       "Name: amount, dtype: float64"
      ]
     },
     "execution_count": 83,
     "metadata": {},
     "output_type": "execute_result"
    }
   ],
   "source": [
    "# apply slide_and_measure() to the entire data set\n",
    "data.groupby(['customer_id', 'hr'])['amount'].mean().groupby(\n",
    "    'customer_id').apply(slice_and_measure)"
   ]
  },
  {
   "cell_type": "markdown",
   "metadata": {},
   "source": [
    "## 10.5 Creating features from transactions with Featuretools"
   ]
  },
  {
   "cell_type": "markdown",
   "metadata": {},
   "source": [
    "- Featuretools is an open source Python library that allows us to automatically create features from time series and transactional databases with multiple transaction records for each specific entity, such as customers. \n",
    "- With Featuretools, we can automatically create features at the transaction level. \n",
    "- Such features include the day, month, and year from a datetimevariable, the time between transactions, or if the transaction occurred on a weekend, as well as the cumulative sum or the difference in value between transactions.\n",
    "- Featuretools also aggregates existing and new features at the entity level—in our example, at the customer level—using mathematical and statistical operations, such as the ones we used in the \"*Aggregating transactions with mathematical operations*\" recipe of this chapter or by using user-defined operations.\n",
    "- In this recipe, we will create features at the transaction level and then aggregate both new and existing features at the customer level by using Featuretool's automatic feature extraction functionality."
   ]
  },
  {
   "cell_type": "code",
   "execution_count": 84,
   "metadata": {},
   "outputs": [],
   "source": [
    "import pandas as pd\n",
    "import matplotlib.pyplot as plt\n",
    "import featuretools as ft"
   ]
  },
  {
   "cell_type": "code",
   "execution_count": 85,
   "metadata": {},
   "outputs": [
    {
     "data": {
      "text/html": [
       "<div>\n",
       "<style scoped>\n",
       "    .dataframe tbody tr th:only-of-type {\n",
       "        vertical-align: middle;\n",
       "    }\n",
       "\n",
       "    .dataframe tbody tr th {\n",
       "        vertical-align: top;\n",
       "    }\n",
       "\n",
       "    .dataframe thead th {\n",
       "        text-align: right;\n",
       "    }\n",
       "</style>\n",
       "<table border=\"1\" class=\"dataframe\">\n",
       "  <thead>\n",
       "    <tr style=\"text-align: right;\">\n",
       "      <th></th>\n",
       "      <th>customer_id</th>\n",
       "      <th>transaction_id</th>\n",
       "      <th>transaction_time</th>\n",
       "      <th>amount</th>\n",
       "    </tr>\n",
       "  </thead>\n",
       "  <tbody>\n",
       "    <tr>\n",
       "      <th>0</th>\n",
       "      <td>2</td>\n",
       "      <td>298</td>\n",
       "      <td>2014-01-01 00:00:00</td>\n",
       "      <td>127.64</td>\n",
       "    </tr>\n",
       "    <tr>\n",
       "      <th>1</th>\n",
       "      <td>2</td>\n",
       "      <td>2</td>\n",
       "      <td>2014-01-01 00:01:05</td>\n",
       "      <td>109.48</td>\n",
       "    </tr>\n",
       "    <tr>\n",
       "      <th>2</th>\n",
       "      <td>2</td>\n",
       "      <td>308</td>\n",
       "      <td>2014-01-01 00:02:10</td>\n",
       "      <td>95.06</td>\n",
       "    </tr>\n",
       "    <tr>\n",
       "      <th>3</th>\n",
       "      <td>2</td>\n",
       "      <td>116</td>\n",
       "      <td>2014-01-01 00:03:15</td>\n",
       "      <td>78.92</td>\n",
       "    </tr>\n",
       "    <tr>\n",
       "      <th>4</th>\n",
       "      <td>2</td>\n",
       "      <td>371</td>\n",
       "      <td>2014-01-01 00:04:20</td>\n",
       "      <td>31.54</td>\n",
       "    </tr>\n",
       "  </tbody>\n",
       "</table>\n",
       "</div>"
      ],
      "text/plain": [
       "   customer_id  transaction_id    transaction_time  amount\n",
       "0            2             298 2014-01-01 00:00:00  127.64\n",
       "1            2               2 2014-01-01 00:01:05  109.48\n",
       "2            2             308 2014-01-01 00:02:10   95.06\n",
       "3            2             116 2014-01-01 00:03:15   78.92\n",
       "4            2             371 2014-01-01 00:04:20   31.54"
      ]
     },
     "execution_count": 85,
     "metadata": {},
     "output_type": "execute_result"
    }
   ],
   "source": [
    "# let's load the example data set from feature tools\n",
    "data_dict = ft.demo.load_mock_customer()\n",
    "\n",
    "data = data_dict[\"transactions\"].merge(\n",
    "    data_dict[\"sessions\"]).merge(data_dict[\"customers\"])\n",
    "\n",
    "cols = ['customer_id',\n",
    "        'transaction_id',\n",
    "        'transaction_time',\n",
    "        'amount',\n",
    "        ]\n",
    "data = data[cols]\n",
    "data.head()"
   ]
  },
  {
   "cell_type": "code",
   "execution_count": 86,
   "metadata": {},
   "outputs": [
    {
     "name": "stdout",
     "output_type": "stream",
     "text": [
      "Number of customers: 5\n",
      "Number of transactions: 500\n"
     ]
    }
   ],
   "source": [
    "print('Number of customers: {}'.format(data['customer_id'].nunique()))\n",
    "print('Number of transactions: {}'.format(data['transaction_id'].nunique()))"
   ]
  },
  {
   "cell_type": "code",
   "execution_count": 87,
   "metadata": {},
   "outputs": [
    {
     "data": {
      "text/plain": [
       "customer_id                  int64\n",
       "transaction_id               int64\n",
       "transaction_time    datetime64[ns]\n",
       "amount                     float64\n",
       "dtype: object"
      ]
     },
     "execution_count": 87,
     "metadata": {},
     "output_type": "execute_result"
    }
   ],
   "source": [
    "data.dtypes"
   ]
  },
  {
   "cell_type": "code",
   "execution_count": 88,
   "metadata": {},
   "outputs": [
    {
     "data": {
      "text/plain": [
       "Entityset: customer_data\n",
       "  Entities:\n",
       "    transactions [Rows: 500, Columns: 4]\n",
       "  Relationships:\n",
       "    No relationships"
      ]
     },
     "execution_count": 88,
     "metadata": {},
     "output_type": "execute_result"
    }
   ],
   "source": [
    "# in order for Featuretools to work, we need to create entity sets\n",
    "es = ft.EntitySet(id=\"customer_data\")\n",
    "\n",
    "# entity set with the transactions\n",
    "es.entity_from_dataframe(entity_id='transactions',\n",
    "                         dataframe=data,\n",
    "                         index=\"transaction_id\",\n",
    "                         time_index='transaction_time')\n",
    "es"
   ]
  },
  {
   "cell_type": "code",
   "execution_count": 89,
   "metadata": {},
   "outputs": [
    {
     "data": {
      "text/plain": [
       "Entityset: customer_data\n",
       "  Entities:\n",
       "    transactions [Rows: 500, Columns: 4]\n",
       "    customers [Rows: 5, Columns: 2]\n",
       "  Relationships:\n",
       "    transactions.customer_id -> customers.customer_id"
      ]
     },
     "execution_count": 89,
     "metadata": {},
     "output_type": "execute_result"
    }
   ],
   "source": [
    "# within the entity set there is another table\n",
    "es.normalize_entity(base_entity_id=\"transactions\",\n",
    "                    new_entity_id=\"customers\",\n",
    "                    index=\"customer_id\")"
   ]
  },
  {
   "cell_type": "markdown",
   "metadata": {},
   "source": [
    "### Creating new features from the existing data - without aggregations\n",
    "Featuretools automatically creates more fearures from those present in the data set for every single transaction, that is without aggregation:\n",
    "1. Create a feature from the datetime variable signalling # if the transaction occurred on a weekend\n",
    "2. Determines the cumulative transaction amount,\n",
    "3. Determine the cumulative number of transactions,\n",
    "4. Creates a new feature indicating the time since the previous transaction\n",
    "\n",
    "All of these operations occur at a transaction level, that is, transaction after transaction\n",
    "- set up the dfs from featuretools to return the previous features\n",
    "- it is important to leave agg_primitives as an empty list, so that featuretools does not\n",
    "- aggregate the data at a customer level as well"
   ]
  },
  {
   "cell_type": "code",
   "execution_count": 90,
   "metadata": {},
   "outputs": [
    {
     "name": "stdout",
     "output_type": "stream",
     "text": [
      "Built 8 features\n",
      "Elapsed: 00:00 | Progress: 100%|███████████████████████████████████████████████████████████████████████████████████████\n"
     ]
    },
    {
     "data": {
      "text/html": [
       "<div>\n",
       "<style scoped>\n",
       "    .dataframe tbody tr th:only-of-type {\n",
       "        vertical-align: middle;\n",
       "    }\n",
       "\n",
       "    .dataframe tbody tr th {\n",
       "        vertical-align: top;\n",
       "    }\n",
       "\n",
       "    .dataframe thead th {\n",
       "        text-align: right;\n",
       "    }\n",
       "</style>\n",
       "<table border=\"1\" class=\"dataframe\">\n",
       "  <thead>\n",
       "    <tr style=\"text-align: right;\">\n",
       "      <th></th>\n",
       "      <th>customer_id</th>\n",
       "      <th>amount</th>\n",
       "      <th>IS_WEEKEND(transaction_time)</th>\n",
       "      <th>CUM_SUM(amount)</th>\n",
       "      <th>CUM_COUNT(customer_id)</th>\n",
       "      <th>TIME_SINCE_PREVIOUS(transaction_time)</th>\n",
       "      <th>customers.IS_WEEKEND(first_transactions_time)</th>\n",
       "      <th>customers.TIME_SINCE_PREVIOUS(first_transactions_time)</th>\n",
       "    </tr>\n",
       "    <tr>\n",
       "      <th>transaction_id</th>\n",
       "      <th></th>\n",
       "      <th></th>\n",
       "      <th></th>\n",
       "      <th></th>\n",
       "      <th></th>\n",
       "      <th></th>\n",
       "      <th></th>\n",
       "      <th></th>\n",
       "    </tr>\n",
       "  </thead>\n",
       "  <tbody>\n",
       "    <tr>\n",
       "      <th>298</th>\n",
       "      <td>2</td>\n",
       "      <td>127.64</td>\n",
       "      <td>False</td>\n",
       "      <td>127.64</td>\n",
       "      <td>1</td>\n",
       "      <td>NaN</td>\n",
       "      <td>False</td>\n",
       "      <td>NaN</td>\n",
       "    </tr>\n",
       "    <tr>\n",
       "      <th>2</th>\n",
       "      <td>2</td>\n",
       "      <td>109.48</td>\n",
       "      <td>False</td>\n",
       "      <td>237.12</td>\n",
       "      <td>2</td>\n",
       "      <td>65.0</td>\n",
       "      <td>False</td>\n",
       "      <td>NaN</td>\n",
       "    </tr>\n",
       "    <tr>\n",
       "      <th>308</th>\n",
       "      <td>2</td>\n",
       "      <td>95.06</td>\n",
       "      <td>False</td>\n",
       "      <td>332.18</td>\n",
       "      <td>3</td>\n",
       "      <td>65.0</td>\n",
       "      <td>False</td>\n",
       "      <td>NaN</td>\n",
       "    </tr>\n",
       "    <tr>\n",
       "      <th>116</th>\n",
       "      <td>2</td>\n",
       "      <td>78.92</td>\n",
       "      <td>False</td>\n",
       "      <td>411.10</td>\n",
       "      <td>4</td>\n",
       "      <td>65.0</td>\n",
       "      <td>False</td>\n",
       "      <td>NaN</td>\n",
       "    </tr>\n",
       "    <tr>\n",
       "      <th>371</th>\n",
       "      <td>2</td>\n",
       "      <td>31.54</td>\n",
       "      <td>False</td>\n",
       "      <td>442.64</td>\n",
       "      <td>5</td>\n",
       "      <td>65.0</td>\n",
       "      <td>False</td>\n",
       "      <td>NaN</td>\n",
       "    </tr>\n",
       "  </tbody>\n",
       "</table>\n",
       "</div>"
      ],
      "text/plain": [
       "                customer_id  amount  IS_WEEKEND(transaction_time)  \\\n",
       "transaction_id                                                      \n",
       "298                       2  127.64                         False   \n",
       "2                         2  109.48                         False   \n",
       "308                       2   95.06                         False   \n",
       "116                       2   78.92                         False   \n",
       "371                       2   31.54                         False   \n",
       "\n",
       "                CUM_SUM(amount)  CUM_COUNT(customer_id)  \\\n",
       "transaction_id                                            \n",
       "298                      127.64                       1   \n",
       "2                        237.12                       2   \n",
       "308                      332.18                       3   \n",
       "116                      411.10                       4   \n",
       "371                      442.64                       5   \n",
       "\n",
       "                TIME_SINCE_PREVIOUS(transaction_time)  \\\n",
       "transaction_id                                          \n",
       "298                                               NaN   \n",
       "2                                                65.0   \n",
       "308                                              65.0   \n",
       "116                                              65.0   \n",
       "371                                              65.0   \n",
       "\n",
       "                customers.IS_WEEKEND(first_transactions_time)  \\\n",
       "transaction_id                                                  \n",
       "298                                                     False   \n",
       "2                                                       False   \n",
       "308                                                     False   \n",
       "116                                                     False   \n",
       "371                                                     False   \n",
       "\n",
       "                customers.TIME_SINCE_PREVIOUS(first_transactions_time)  \n",
       "transaction_id                                                          \n",
       "298                                                           NaN       \n",
       "2                                                             NaN       \n",
       "308                                                           NaN       \n",
       "116                                                           NaN       \n",
       "371                                                           NaN       "
      ]
     },
     "execution_count": 90,
     "metadata": {},
     "output_type": "execute_result"
    }
   ],
   "source": [
    "transf_operations = ['is_weekend', 'cum_sum', 'cum_count','time_since_previous']\n",
    "\n",
    "feature_matrix, features = ft.dfs(entityset=es,\n",
    "                      target_entity=\"transactions\",\n",
    "                      agg_primitives=[],\n",
    "                      trans_primitives=transf_operations,\n",
    "                      verbose=True)\n",
    "feature_matrix.head()"
   ]
  },
  {
   "cell_type": "code",
   "execution_count": 91,
   "metadata": {},
   "outputs": [
    {
     "data": {
      "text/plain": [
       "((500, 4), (500, 8))"
      ]
     },
     "execution_count": 91,
     "metadata": {},
     "output_type": "execute_result"
    }
   ],
   "source": [
    "# original dataframe and derived feature_matrix should have same number of observations\n",
    "data.shape, feature_matrix.shape"
   ]
  },
  {
   "cell_type": "markdown",
   "metadata": {},
   "source": [
    "- If we don't indicate the operations to perform to create new features, Featuretools will perform the default operations, which can be found [here](https://docs.featuretools.com/en/stable/generated/featuretools.dfs.html)\n",
    "- If we had more than 1 numeric feature in our dataframe, we could create new feautres by addition or multiplication as we did in recipe Combining multiple features with statistical operations of Chapter 9, *Applying Mathematical Computations to Features*\n",
    "    - for code on how to do that check this [link](https://stackoverflow.com/questions/55155371/how-to-use-featuretools-to-create-features-for-a-single-table-with-no-immediate/55172142#55172142)"
   ]
  },
  {
   "cell_type": "code",
   "execution_count": 92,
   "metadata": {},
   "outputs": [
    {
     "data": {
      "text/html": [
       "<div>\n",
       "<style scoped>\n",
       "    .dataframe tbody tr th:only-of-type {\n",
       "        vertical-align: middle;\n",
       "    }\n",
       "\n",
       "    .dataframe tbody tr th {\n",
       "        vertical-align: top;\n",
       "    }\n",
       "\n",
       "    .dataframe thead th {\n",
       "        text-align: right;\n",
       "    }\n",
       "</style>\n",
       "<table border=\"1\" class=\"dataframe\">\n",
       "  <thead>\n",
       "    <tr style=\"text-align: right;\">\n",
       "      <th></th>\n",
       "      <th>name</th>\n",
       "      <th>type</th>\n",
       "      <th>dask_compatible</th>\n",
       "      <th>description</th>\n",
       "    </tr>\n",
       "  </thead>\n",
       "  <tbody>\n",
       "    <tr>\n",
       "      <th>22</th>\n",
       "      <td>less_than_scalar</td>\n",
       "      <td>transform</td>\n",
       "      <td>True</td>\n",
       "      <td>Determines if values are less than a given scalar.</td>\n",
       "    </tr>\n",
       "    <tr>\n",
       "      <th>23</th>\n",
       "      <td>diff</td>\n",
       "      <td>transform</td>\n",
       "      <td>False</td>\n",
       "      <td>Compute the difference between the value in a list and the</td>\n",
       "    </tr>\n",
       "    <tr>\n",
       "      <th>24</th>\n",
       "      <td>absolute</td>\n",
       "      <td>transform</td>\n",
       "      <td>True</td>\n",
       "      <td>Computes the absolute value of a number.</td>\n",
       "    </tr>\n",
       "    <tr>\n",
       "      <th>25</th>\n",
       "      <td>cum_max</td>\n",
       "      <td>transform</td>\n",
       "      <td>False</td>\n",
       "      <td>Calculates the cumulative maximum.</td>\n",
       "    </tr>\n",
       "    <tr>\n",
       "      <th>26</th>\n",
       "      <td>equal_scalar</td>\n",
       "      <td>transform</td>\n",
       "      <td>True</td>\n",
       "      <td>Determines if values in a list are equal to a given scalar.</td>\n",
       "    </tr>\n",
       "    <tr>\n",
       "      <th>27</th>\n",
       "      <td>num_words</td>\n",
       "      <td>transform</td>\n",
       "      <td>True</td>\n",
       "      <td>Determines the number of words in a string by counting the spaces.</td>\n",
       "    </tr>\n",
       "    <tr>\n",
       "      <th>28</th>\n",
       "      <td>cum_min</td>\n",
       "      <td>transform</td>\n",
       "      <td>False</td>\n",
       "      <td>Calculates the cumulative minimum.</td>\n",
       "    </tr>\n",
       "    <tr>\n",
       "      <th>29</th>\n",
       "      <td>add_numeric_scalar</td>\n",
       "      <td>transform</td>\n",
       "      <td>True</td>\n",
       "      <td>Add a scalar to each value in the list.</td>\n",
       "    </tr>\n",
       "    <tr>\n",
       "      <th>30</th>\n",
       "      <td>greater_than_equal_to_scalar</td>\n",
       "      <td>transform</td>\n",
       "      <td>True</td>\n",
       "      <td>Determines if values are greater than or equal to a given scalar.</td>\n",
       "    </tr>\n",
       "    <tr>\n",
       "      <th>31</th>\n",
       "      <td>month</td>\n",
       "      <td>transform</td>\n",
       "      <td>True</td>\n",
       "      <td>Determines the month value of a datetime.</td>\n",
       "    </tr>\n",
       "  </tbody>\n",
       "</table>\n",
       "</div>"
      ],
      "text/plain": [
       "                            name       type  dask_compatible  \\\n",
       "22              less_than_scalar  transform             True   \n",
       "23                          diff  transform            False   \n",
       "24                      absolute  transform             True   \n",
       "25                       cum_max  transform            False   \n",
       "26                  equal_scalar  transform             True   \n",
       "27                     num_words  transform             True   \n",
       "28                       cum_min  transform            False   \n",
       "29            add_numeric_scalar  transform             True   \n",
       "30  greater_than_equal_to_scalar  transform             True   \n",
       "31                         month  transform             True   \n",
       "\n",
       "                                                           description  \n",
       "22                  Determines if values are less than a given scalar.  \n",
       "23          Compute the difference between the value in a list and the  \n",
       "24                            Computes the absolute value of a number.  \n",
       "25                                  Calculates the cumulative maximum.  \n",
       "26         Determines if values in a list are equal to a given scalar.  \n",
       "27  Determines the number of words in a string by counting the spaces.  \n",
       "28                                  Calculates the cumulative minimum.  \n",
       "29                             Add a scalar to each value in the list.  \n",
       "30   Determines if values are greater than or equal to a given scalar.  \n",
       "31                           Determines the month value of a datetime.  "
      ]
     },
     "execution_count": 92,
     "metadata": {},
     "output_type": "execute_result"
    }
   ],
   "source": [
    "# details in the types of features that we can create\n",
    "primitives = ft.list_primitives()\n",
    "pd.options.display.max_colwidth = 500\n",
    "primitives[primitives['type'] == 'transform'][:10]"
   ]
  },
  {
   "cell_type": "markdown",
   "metadata": {},
   "source": [
    "### Creating new features from the existing data - with aggregations\n",
    "- These are the features we can create when we want a flattened view of our dataframe, that is one row per customer\n",
    "- Differently from the previous case, here we want to aggregate the information at customer level, so we want a summary view of each customer\n",
    "    - first we aggregate only the existing variables that is the transaction amount; we want the mean and maximum transaction amount per customer\n",
    "    - next we will create a new feature as done earlier, and more specifically, we will create the feature time_since_previous transaction and aggregate the new feature together with the pre-existing variable transaction amount, all in one go\n",
    "    - note how the final dataframe contains as many rows as different customers in the data set\n",
    "    - and next we create 2 new features and aggregate both together with the transaction amount"
   ]
  },
  {
   "cell_type": "code",
   "execution_count": 93,
   "metadata": {},
   "outputs": [
    {
     "name": "stdout",
     "output_type": "stream",
     "text": [
      "Built 2 features\n",
      "Elapsed: 00:00 | Progress: 100%|███████████████████████████████████████████████████████████████████████████████████████\n"
     ]
    },
    {
     "data": {
      "text/html": [
       "<div>\n",
       "<style scoped>\n",
       "    .dataframe tbody tr th:only-of-type {\n",
       "        vertical-align: middle;\n",
       "    }\n",
       "\n",
       "    .dataframe tbody tr th {\n",
       "        vertical-align: top;\n",
       "    }\n",
       "\n",
       "    .dataframe thead th {\n",
       "        text-align: right;\n",
       "    }\n",
       "</style>\n",
       "<table border=\"1\" class=\"dataframe\">\n",
       "  <thead>\n",
       "    <tr style=\"text-align: right;\">\n",
       "      <th></th>\n",
       "      <th>MEAN(transactions.amount)</th>\n",
       "      <th>MAX(transactions.amount)</th>\n",
       "    </tr>\n",
       "    <tr>\n",
       "      <th>customer_id</th>\n",
       "      <th></th>\n",
       "      <th></th>\n",
       "    </tr>\n",
       "  </thead>\n",
       "  <tbody>\n",
       "    <tr>\n",
       "      <th>2</th>\n",
       "      <td>77.422366</td>\n",
       "      <td>146.81</td>\n",
       "    </tr>\n",
       "    <tr>\n",
       "      <th>5</th>\n",
       "      <td>80.375443</td>\n",
       "      <td>149.02</td>\n",
       "    </tr>\n",
       "    <tr>\n",
       "      <th>4</th>\n",
       "      <td>80.070459</td>\n",
       "      <td>149.95</td>\n",
       "    </tr>\n",
       "    <tr>\n",
       "      <th>1</th>\n",
       "      <td>71.631905</td>\n",
       "      <td>139.43</td>\n",
       "    </tr>\n",
       "    <tr>\n",
       "      <th>3</th>\n",
       "      <td>67.060430</td>\n",
       "      <td>149.15</td>\n",
       "    </tr>\n",
       "  </tbody>\n",
       "</table>\n",
       "</div>"
      ],
      "text/plain": [
       "             MEAN(transactions.amount)  MAX(transactions.amount)\n",
       "customer_id                                                     \n",
       "2                            77.422366                    146.81\n",
       "5                            80.375443                    149.02\n",
       "4                            80.070459                    149.95\n",
       "1                            71.631905                    139.43\n",
       "3                            67.060430                    149.15"
      ]
     },
     "execution_count": 93,
     "metadata": {},
     "output_type": "execute_result"
    }
   ],
   "source": [
    "feature_matrix, features = ft.dfs(entityset=es,\n",
    "                      target_entity=\"customers\",\n",
    "                      agg_primitives=[\"mean\", 'max'],\n",
    "                      trans_primitives=[],\n",
    "                      verbose=True)\n",
    "feature_matrix"
   ]
  },
  {
   "cell_type": "code",
   "execution_count": 94,
   "metadata": {},
   "outputs": [
    {
     "name": "stdout",
     "output_type": "stream",
     "text": [
      "Built 5 features\n",
      "Elapsed: 00:00 | Progress: 100%|███████████████████████████████████████████████████████████████████████████████████████\n"
     ]
    },
    {
     "data": {
      "text/html": [
       "<div>\n",
       "<style scoped>\n",
       "    .dataframe tbody tr th:only-of-type {\n",
       "        vertical-align: middle;\n",
       "    }\n",
       "\n",
       "    .dataframe tbody tr th {\n",
       "        vertical-align: top;\n",
       "    }\n",
       "\n",
       "    .dataframe thead th {\n",
       "        text-align: right;\n",
       "    }\n",
       "</style>\n",
       "<table border=\"1\" class=\"dataframe\">\n",
       "  <thead>\n",
       "    <tr style=\"text-align: right;\">\n",
       "      <th></th>\n",
       "      <th>MEAN(transactions.amount)</th>\n",
       "      <th>MAX(transactions.amount)</th>\n",
       "      <th>TIME_SINCE_PREVIOUS(first_transactions_time)</th>\n",
       "      <th>MEAN(transactions.TIME_SINCE_PREVIOUS(transaction_time))</th>\n",
       "      <th>MAX(transactions.TIME_SINCE_PREVIOUS(transaction_time))</th>\n",
       "    </tr>\n",
       "    <tr>\n",
       "      <th>customer_id</th>\n",
       "      <th></th>\n",
       "      <th></th>\n",
       "      <th></th>\n",
       "      <th></th>\n",
       "      <th></th>\n",
       "    </tr>\n",
       "  </thead>\n",
       "  <tbody>\n",
       "    <tr>\n",
       "      <th>2</th>\n",
       "      <td>77.422366</td>\n",
       "      <td>146.81</td>\n",
       "      <td>NaN</td>\n",
       "      <td>65.0</td>\n",
       "      <td>65.0</td>\n",
       "    </tr>\n",
       "    <tr>\n",
       "      <th>5</th>\n",
       "      <td>80.375443</td>\n",
       "      <td>149.02</td>\n",
       "      <td>1040.0</td>\n",
       "      <td>65.0</td>\n",
       "      <td>65.0</td>\n",
       "    </tr>\n",
       "    <tr>\n",
       "      <th>4</th>\n",
       "      <td>80.070459</td>\n",
       "      <td>149.95</td>\n",
       "      <td>650.0</td>\n",
       "      <td>65.0</td>\n",
       "      <td>65.0</td>\n",
       "    </tr>\n",
       "    <tr>\n",
       "      <th>1</th>\n",
       "      <td>71.631905</td>\n",
       "      <td>139.43</td>\n",
       "      <td>975.0</td>\n",
       "      <td>65.0</td>\n",
       "      <td>65.0</td>\n",
       "    </tr>\n",
       "    <tr>\n",
       "      <th>3</th>\n",
       "      <td>67.060430</td>\n",
       "      <td>149.15</td>\n",
       "      <td>3315.0</td>\n",
       "      <td>65.0</td>\n",
       "      <td>65.0</td>\n",
       "    </tr>\n",
       "  </tbody>\n",
       "</table>\n",
       "</div>"
      ],
      "text/plain": [
       "             MEAN(transactions.amount)  MAX(transactions.amount)  \\\n",
       "customer_id                                                        \n",
       "2                            77.422366                    146.81   \n",
       "5                            80.375443                    149.02   \n",
       "4                            80.070459                    149.95   \n",
       "1                            71.631905                    139.43   \n",
       "3                            67.060430                    149.15   \n",
       "\n",
       "             TIME_SINCE_PREVIOUS(first_transactions_time)  \\\n",
       "customer_id                                                 \n",
       "2                                                     NaN   \n",
       "5                                                  1040.0   \n",
       "4                                                   650.0   \n",
       "1                                                   975.0   \n",
       "3                                                  3315.0   \n",
       "\n",
       "             MEAN(transactions.TIME_SINCE_PREVIOUS(transaction_time))  \\\n",
       "customer_id                                                             \n",
       "2                                                                65.0   \n",
       "5                                                                65.0   \n",
       "4                                                                65.0   \n",
       "1                                                                65.0   \n",
       "3                                                                65.0   \n",
       "\n",
       "             MAX(transactions.TIME_SINCE_PREVIOUS(transaction_time))  \n",
       "customer_id                                                           \n",
       "2                                                               65.0  \n",
       "5                                                               65.0  \n",
       "4                                                               65.0  \n",
       "1                                                               65.0  \n",
       "3                                                               65.0  "
      ]
     },
     "execution_count": 94,
     "metadata": {},
     "output_type": "execute_result"
    }
   ],
   "source": [
    "feature_matrix, features = ft.dfs(entityset=es,\n",
    "                      target_entity=\"customers\",\n",
    "                      agg_primitives=[\"mean\", 'max'],\n",
    "                      trans_primitives=['time_since_previous'],\n",
    "                      verbose=True)\n",
    "feature_matrix"
   ]
  },
  {
   "cell_type": "code",
   "execution_count": 95,
   "metadata": {},
   "outputs": [
    {
     "data": {
      "text/plain": [
       "((500, 4), (5, 5))"
      ]
     },
     "execution_count": 95,
     "metadata": {},
     "output_type": "execute_result"
    }
   ],
   "source": [
    "data.shape, feature_matrix.shape"
   ]
  },
  {
   "cell_type": "code",
   "execution_count": 96,
   "metadata": {},
   "outputs": [
    {
     "name": "stdout",
     "output_type": "stream",
     "text": [
      "Built 9 features\n",
      "Elapsed: 00:00 | Progress: 100%|███████████████████████████████████████████████████████████████████████████████████████\n"
     ]
    },
    {
     "data": {
      "text/html": [
       "<div>\n",
       "<style scoped>\n",
       "    .dataframe tbody tr th:only-of-type {\n",
       "        vertical-align: middle;\n",
       "    }\n",
       "\n",
       "    .dataframe tbody tr th {\n",
       "        vertical-align: top;\n",
       "    }\n",
       "\n",
       "    .dataframe thead th {\n",
       "        text-align: right;\n",
       "    }\n",
       "</style>\n",
       "<table border=\"1\" class=\"dataframe\">\n",
       "  <thead>\n",
       "    <tr style=\"text-align: right;\">\n",
       "      <th></th>\n",
       "      <th>MEAN(transactions.amount)</th>\n",
       "      <th>MAX(transactions.amount)</th>\n",
       "      <th>TIME_SINCE_PREVIOUS(first_transactions_time)</th>\n",
       "      <th>MEAN(transactions.CUM_SUM(amount))</th>\n",
       "      <th>MEAN(transactions.TIME_SINCE_PREVIOUS(transaction_time))</th>\n",
       "      <th>MAX(transactions.CUM_SUM(amount))</th>\n",
       "      <th>MAX(transactions.TIME_SINCE_PREVIOUS(transaction_time))</th>\n",
       "      <th>CUM_SUM(MAX(transactions.amount))</th>\n",
       "      <th>CUM_SUM(MEAN(transactions.amount))</th>\n",
       "    </tr>\n",
       "    <tr>\n",
       "      <th>customer_id</th>\n",
       "      <th></th>\n",
       "      <th></th>\n",
       "      <th></th>\n",
       "      <th></th>\n",
       "      <th></th>\n",
       "      <th></th>\n",
       "      <th></th>\n",
       "      <th></th>\n",
       "      <th></th>\n",
       "    </tr>\n",
       "  </thead>\n",
       "  <tbody>\n",
       "    <tr>\n",
       "      <th>2</th>\n",
       "      <td>77.422366</td>\n",
       "      <td>146.81</td>\n",
       "      <td>NaN</td>\n",
       "      <td>18794.182366</td>\n",
       "      <td>65.0</td>\n",
       "      <td>35101.22</td>\n",
       "      <td>65.0</td>\n",
       "      <td>146.81</td>\n",
       "      <td>77.422366</td>\n",
       "    </tr>\n",
       "    <tr>\n",
       "      <th>5</th>\n",
       "      <td>80.375443</td>\n",
       "      <td>149.02</td>\n",
       "      <td>1040.0</td>\n",
       "      <td>24258.206582</td>\n",
       "      <td>65.0</td>\n",
       "      <td>34296.39</td>\n",
       "      <td>65.0</td>\n",
       "      <td>295.83</td>\n",
       "      <td>157.797809</td>\n",
       "    </tr>\n",
       "    <tr>\n",
       "      <th>4</th>\n",
       "      <td>80.070459</td>\n",
       "      <td>149.95</td>\n",
       "      <td>650.0</td>\n",
       "      <td>12455.024495</td>\n",
       "      <td>65.0</td>\n",
       "      <td>23418.09</td>\n",
       "      <td>65.0</td>\n",
       "      <td>445.78</td>\n",
       "      <td>237.868267</td>\n",
       "    </tr>\n",
       "    <tr>\n",
       "      <th>1</th>\n",
       "      <td>71.631905</td>\n",
       "      <td>139.43</td>\n",
       "      <td>975.0</td>\n",
       "      <td>16566.784048</td>\n",
       "      <td>65.0</td>\n",
       "      <td>31291.89</td>\n",
       "      <td>65.0</td>\n",
       "      <td>585.21</td>\n",
       "      <td>309.500172</td>\n",
       "    </tr>\n",
       "    <tr>\n",
       "      <th>3</th>\n",
       "      <td>67.060430</td>\n",
       "      <td>149.15</td>\n",
       "      <td>3315.0</td>\n",
       "      <td>25387.640538</td>\n",
       "      <td>65.0</td>\n",
       "      <td>37539.86</td>\n",
       "      <td>65.0</td>\n",
       "      <td>734.36</td>\n",
       "      <td>376.560602</td>\n",
       "    </tr>\n",
       "  </tbody>\n",
       "</table>\n",
       "</div>"
      ],
      "text/plain": [
       "             MEAN(transactions.amount)  MAX(transactions.amount)  \\\n",
       "customer_id                                                        \n",
       "2                            77.422366                    146.81   \n",
       "5                            80.375443                    149.02   \n",
       "4                            80.070459                    149.95   \n",
       "1                            71.631905                    139.43   \n",
       "3                            67.060430                    149.15   \n",
       "\n",
       "             TIME_SINCE_PREVIOUS(first_transactions_time)  \\\n",
       "customer_id                                                 \n",
       "2                                                     NaN   \n",
       "5                                                  1040.0   \n",
       "4                                                   650.0   \n",
       "1                                                   975.0   \n",
       "3                                                  3315.0   \n",
       "\n",
       "             MEAN(transactions.CUM_SUM(amount))  \\\n",
       "customer_id                                       \n",
       "2                                  18794.182366   \n",
       "5                                  24258.206582   \n",
       "4                                  12455.024495   \n",
       "1                                  16566.784048   \n",
       "3                                  25387.640538   \n",
       "\n",
       "             MEAN(transactions.TIME_SINCE_PREVIOUS(transaction_time))  \\\n",
       "customer_id                                                             \n",
       "2                                                                65.0   \n",
       "5                                                                65.0   \n",
       "4                                                                65.0   \n",
       "1                                                                65.0   \n",
       "3                                                                65.0   \n",
       "\n",
       "             MAX(transactions.CUM_SUM(amount))  \\\n",
       "customer_id                                      \n",
       "2                                     35101.22   \n",
       "5                                     34296.39   \n",
       "4                                     23418.09   \n",
       "1                                     31291.89   \n",
       "3                                     37539.86   \n",
       "\n",
       "             MAX(transactions.TIME_SINCE_PREVIOUS(transaction_time))  \\\n",
       "customer_id                                                            \n",
       "2                                                               65.0   \n",
       "5                                                               65.0   \n",
       "4                                                               65.0   \n",
       "1                                                               65.0   \n",
       "3                                                               65.0   \n",
       "\n",
       "             CUM_SUM(MAX(transactions.amount))  \\\n",
       "customer_id                                      \n",
       "2                                       146.81   \n",
       "5                                       295.83   \n",
       "4                                       445.78   \n",
       "1                                       585.21   \n",
       "3                                       734.36   \n",
       "\n",
       "             CUM_SUM(MEAN(transactions.amount))  \n",
       "customer_id                                      \n",
       "2                                     77.422366  \n",
       "5                                    157.797809  \n",
       "4                                    237.868267  \n",
       "1                                    309.500172  \n",
       "3                                    376.560602  "
      ]
     },
     "execution_count": 96,
     "metadata": {},
     "output_type": "execute_result"
    }
   ],
   "source": [
    "feature_matrix, features = ft.dfs(entityset=es,\n",
    "                      target_entity=\"customers\",\n",
    "                      agg_primitives=[\"mean\", 'max'],\n",
    "                      trans_primitives=['cum_sum','time_since_previous'],\n",
    "                      verbose=True)\n",
    "feature_matrix"
   ]
  },
  {
   "cell_type": "code",
   "execution_count": 97,
   "metadata": {},
   "outputs": [
    {
     "data": {
      "text/plain": [
       "((500, 4), (5, 9))"
      ]
     },
     "execution_count": 97,
     "metadata": {},
     "output_type": "execute_result"
    }
   ],
   "source": [
    "data.shape, feature_matrix.shape"
   ]
  },
  {
   "cell_type": "markdown",
   "metadata": {},
   "source": [
    "### Integrating user defined functions\n",
    "In the remaining lines, instead of using Featuretools pre-coded functions, we will create our own."
   ]
  },
  {
   "cell_type": "code",
   "execution_count": 98,
   "metadata": {},
   "outputs": [
    {
     "name": "stdout",
     "output_type": "stream",
     "text": [
      "Built 4 features\n",
      "Elapsed: 00:00 | Progress: 100%|███████████████████████████████████████████████████████████████████████████████████████\n"
     ]
    },
    {
     "data": {
      "text/html": [
       "<div>\n",
       "<style scoped>\n",
       "    .dataframe tbody tr th:only-of-type {\n",
       "        vertical-align: middle;\n",
       "    }\n",
       "\n",
       "    .dataframe tbody tr th {\n",
       "        vertical-align: top;\n",
       "    }\n",
       "\n",
       "    .dataframe thead th {\n",
       "        text-align: right;\n",
       "    }\n",
       "</style>\n",
       "<table border=\"1\" class=\"dataframe\">\n",
       "  <thead>\n",
       "    <tr style=\"text-align: right;\">\n",
       "      <th></th>\n",
       "      <th>FIND_NO_PEAKS(transactions.amount)</th>\n",
       "      <th>FIND_NO_VALLEYS(transactions.amount)</th>\n",
       "      <th>MEAN(transactions.amount)</th>\n",
       "      <th>MAX(transactions.amount)</th>\n",
       "    </tr>\n",
       "    <tr>\n",
       "      <th>customer_id</th>\n",
       "      <th></th>\n",
       "      <th></th>\n",
       "      <th></th>\n",
       "      <th></th>\n",
       "    </tr>\n",
       "  </thead>\n",
       "  <tbody>\n",
       "    <tr>\n",
       "      <th>2</th>\n",
       "      <td>28.0</td>\n",
       "      <td>29.0</td>\n",
       "      <td>77.422366</td>\n",
       "      <td>146.81</td>\n",
       "    </tr>\n",
       "    <tr>\n",
       "      <th>5</th>\n",
       "      <td>26.0</td>\n",
       "      <td>26.0</td>\n",
       "      <td>80.375443</td>\n",
       "      <td>149.02</td>\n",
       "    </tr>\n",
       "    <tr>\n",
       "      <th>4</th>\n",
       "      <td>37.0</td>\n",
       "      <td>38.0</td>\n",
       "      <td>80.070459</td>\n",
       "      <td>149.95</td>\n",
       "    </tr>\n",
       "    <tr>\n",
       "      <th>1</th>\n",
       "      <td>43.0</td>\n",
       "      <td>42.0</td>\n",
       "      <td>71.631905</td>\n",
       "      <td>139.43</td>\n",
       "    </tr>\n",
       "    <tr>\n",
       "      <th>3</th>\n",
       "      <td>29.0</td>\n",
       "      <td>29.0</td>\n",
       "      <td>67.060430</td>\n",
       "      <td>149.15</td>\n",
       "    </tr>\n",
       "  </tbody>\n",
       "</table>\n",
       "</div>"
      ],
      "text/plain": [
       "             FIND_NO_PEAKS(transactions.amount)  \\\n",
       "customer_id                                       \n",
       "2                                          28.0   \n",
       "5                                          26.0   \n",
       "4                                          37.0   \n",
       "1                                          43.0   \n",
       "3                                          29.0   \n",
       "\n",
       "             FIND_NO_VALLEYS(transactions.amount)  MEAN(transactions.amount)  \\\n",
       "customer_id                                                                    \n",
       "2                                            29.0                  77.422366   \n",
       "5                                            26.0                  80.375443   \n",
       "4                                            38.0                  80.070459   \n",
       "1                                            42.0                  71.631905   \n",
       "3                                            29.0                  67.060430   \n",
       "\n",
       "             MAX(transactions.amount)  \n",
       "customer_id                            \n",
       "2                              146.81  \n",
       "5                              149.02  \n",
       "4                              149.95  \n",
       "1                              139.43  \n",
       "3                              149.15  "
      ]
     },
     "execution_count": 98,
     "metadata": {},
     "output_type": "execute_result"
    }
   ],
   "source": [
    "from featuretools.primitives import make_trans_primitive, make_agg_primitive\n",
    "from featuretools.variable_types import Numeric\n",
    "from scipy.signal import find_peaks\n",
    "\n",
    "def find_no_peaks(column):\n",
    "    peaks, _ = find_peaks(column)\n",
    "    return len(peaks)\n",
    "\n",
    "def find_no_valleys(column):\n",
    "    valleys, _ = find_peaks(1 / column)\n",
    "    return len(valleys)\n",
    "\n",
    "FindNoPeaks = make_agg_primitive(function=find_no_peaks,\n",
    "                                 input_types=[Numeric],\n",
    "                                 return_type=Numeric)\n",
    "\n",
    "FindNoValleys = make_agg_primitive(function=find_no_valleys,\n",
    "                                   input_types=[Numeric],\n",
    "                                   return_type=Numeric)\n",
    "\n",
    "# and now let's use our 2 new aggregation functions with mean and max\n",
    "feature_matrix, features = ft.dfs(entityset=es,\n",
    "                      target_entity=\"customers\",\n",
    "                      agg_primitives=[FindNoPeaks, FindNoValleys, 'mean', 'max'],\n",
    "                      trans_primitives=[],\n",
    "                      verbose=True)\n",
    "feature_matrix"
   ]
  }
 ],
 "metadata": {
  "kernelspec": {
   "display_name": "Python 3",
   "language": "python",
   "name": "python3"
  },
  "language_info": {
   "codemirror_mode": {
    "name": "ipython",
    "version": 3
   },
   "file_extension": ".py",
   "mimetype": "text/x-python",
   "name": "python",
   "nbconvert_exporter": "python",
   "pygments_lexer": "ipython3",
   "version": "3.7.7"
  },
  "toc": {
   "nav_menu": {},
   "number_sections": true,
   "sideBar": true,
   "skip_h1_title": false,
   "toc_cell": false,
   "toc_position": {},
   "toc_section_display": "block",
   "toc_window_display": true
  }
 },
 "nbformat": 4,
 "nbformat_minor": 2
}
